{
 "cells": [
  {
   "cell_type": "markdown",
   "metadata": {},
   "source": [
    "<p style=\"text-align:center;\">\n",
    "<img src=\"https://github.com/digital-futures-academy/DataScienceMasterResources/blob/main/Resources/datascience-notebook-header.png?raw=true\"\n",
    "     alt=\"DigitalFuturesLogo\"\n",
    "     style=\"float: center; margin-right: 10px;\" />\n",
    "</p>"
   ]
  },
  {
   "cell_type": "markdown",
   "metadata": {},
   "source": [
    "### Data Cleaning"
   ]
  },
  {
   "cell_type": "code",
   "execution_count": 1,
   "metadata": {},
   "outputs": [],
   "source": [
    "import pandas as pd\n",
    "import numpy as np\n",
    "import seaborn as sns\n",
    "import matplotlib.pyplot as plt"
   ]
  },
  {
   "cell_type": "markdown",
   "metadata": {},
   "source": [
    "#### Load and Check Data"
   ]
  },
  {
   "cell_type": "code",
   "execution_count": 2,
   "metadata": {},
   "outputs": [],
   "source": [
    "# read csv containing data scraped from reed.co.uk\n",
    "df = pd.read_csv('reed_data.csv')"
   ]
  },
  {
   "cell_type": "code",
   "execution_count": 3,
   "metadata": {},
   "outputs": [],
   "source": [
    "# move salary column to the end of df\n",
    "columns = df.columns.tolist()\n",
    "columns.insert(5, columns.pop(0))\n",
    "df = df[columns]"
   ]
  },
  {
   "cell_type": "code",
   "execution_count": 4,
   "metadata": {},
   "outputs": [
    {
     "data": {
      "text/html": [
       "<div>\n",
       "<style scoped>\n",
       "    .dataframe tbody tr th:only-of-type {\n",
       "        vertical-align: middle;\n",
       "    }\n",
       "\n",
       "    .dataframe tbody tr th {\n",
       "        vertical-align: top;\n",
       "    }\n",
       "\n",
       "    .dataframe thead th {\n",
       "        text-align: right;\n",
       "    }\n",
       "</style>\n",
       "<table border=\"1\" class=\"dataframe\">\n",
       "  <thead>\n",
       "    <tr style=\"text-align: right;\">\n",
       "      <th></th>\n",
       "      <th>title</th>\n",
       "      <th>company</th>\n",
       "      <th>location</th>\n",
       "      <th>contract</th>\n",
       "      <th>remote</th>\n",
       "      <th>salary</th>\n",
       "    </tr>\n",
       "  </thead>\n",
       "  <tbody>\n",
       "    <tr>\n",
       "      <th>0</th>\n",
       "      <td>Data Scientist</td>\n",
       "      <td>EG Group</td>\n",
       "      <td>Guide</td>\n",
       "      <td>Permanent, full-time</td>\n",
       "      <td>No</td>\n",
       "      <td>£30,000 per annum</td>\n",
       "    </tr>\n",
       "    <tr>\n",
       "      <th>1</th>\n",
       "      <td>Data Scientist</td>\n",
       "      <td>Adecco</td>\n",
       "      <td>Bristol</td>\n",
       "      <td>Permanent, full-time</td>\n",
       "      <td>No</td>\n",
       "      <td>£50,000 - £65,000 per annum</td>\n",
       "    </tr>\n",
       "    <tr>\n",
       "      <th>2</th>\n",
       "      <td>Data Scientist</td>\n",
       "      <td>IO Sphere</td>\n",
       "      <td>City of London</td>\n",
       "      <td>Permanent, full-time or part-time</td>\n",
       "      <td>No</td>\n",
       "      <td>£40,000 - £70,000 per annum</td>\n",
       "    </tr>\n",
       "    <tr>\n",
       "      <th>3</th>\n",
       "      <td>Data Scientist</td>\n",
       "      <td>ADLIB</td>\n",
       "      <td>Bath</td>\n",
       "      <td>Permanent, full-time</td>\n",
       "      <td>No</td>\n",
       "      <td>£40,000 - £50,000 per annum</td>\n",
       "    </tr>\n",
       "    <tr>\n",
       "      <th>4</th>\n",
       "      <td>Data Scientist</td>\n",
       "      <td>Pontoon</td>\n",
       "      <td>Crewe</td>\n",
       "      <td>Contract, full-time</td>\n",
       "      <td>No</td>\n",
       "      <td>£450 - £500 per day</td>\n",
       "    </tr>\n",
       "  </tbody>\n",
       "</table>\n",
       "</div>"
      ],
      "text/plain": [
       "            title    company        location  \\\n",
       "0  Data Scientist   EG Group           Guide   \n",
       "1  Data Scientist    Adecco          Bristol   \n",
       "2  Data Scientist  IO Sphere  City of London   \n",
       "3  Data Scientist      ADLIB            Bath   \n",
       "4  Data Scientist    Pontoon           Crewe   \n",
       "\n",
       "                            contract remote                       salary  \n",
       "0               Permanent, full-time     No            £30,000 per annum  \n",
       "1               Permanent, full-time     No  £50,000 - £65,000 per annum  \n",
       "2  Permanent, full-time or part-time     No  £40,000 - £70,000 per annum  \n",
       "3               Permanent, full-time     No  £40,000 - £50,000 per annum  \n",
       "4                Contract, full-time     No          £450 - £500 per day  "
      ]
     },
     "execution_count": 4,
     "metadata": {},
     "output_type": "execute_result"
    }
   ],
   "source": [
    "# check top rows\n",
    "df.head()"
   ]
  },
  {
   "cell_type": "code",
   "execution_count": 5,
   "metadata": {},
   "outputs": [
    {
     "data": {
      "text/html": [
       "<div>\n",
       "<style scoped>\n",
       "    .dataframe tbody tr th:only-of-type {\n",
       "        vertical-align: middle;\n",
       "    }\n",
       "\n",
       "    .dataframe tbody tr th {\n",
       "        vertical-align: top;\n",
       "    }\n",
       "\n",
       "    .dataframe thead th {\n",
       "        text-align: right;\n",
       "    }\n",
       "</style>\n",
       "<table border=\"1\" class=\"dataframe\">\n",
       "  <thead>\n",
       "    <tr style=\"text-align: right;\">\n",
       "      <th></th>\n",
       "      <th>title</th>\n",
       "      <th>company</th>\n",
       "      <th>location</th>\n",
       "      <th>contract</th>\n",
       "      <th>remote</th>\n",
       "      <th>salary</th>\n",
       "    </tr>\n",
       "  </thead>\n",
       "  <tbody>\n",
       "    <tr>\n",
       "      <th>7568</th>\n",
       "      <td>Fullstack Developer</td>\n",
       "      <td>SR2</td>\n",
       "      <td>Cambridgeshire</td>\n",
       "      <td>Permanent, full-time</td>\n",
       "      <td>Work from home</td>\n",
       "      <td>£60,000 - £65,000 per annum</td>\n",
       "    </tr>\n",
       "    <tr>\n",
       "      <th>7569</th>\n",
       "      <td>Health, Safety &amp; Environment Manager - Food</td>\n",
       "      <td>SRG</td>\n",
       "      <td>Chipping Campden</td>\n",
       "      <td>Permanent, full-time</td>\n",
       "      <td>No</td>\n",
       "      <td>£50,000 - £60,000 per annum</td>\n",
       "    </tr>\n",
       "    <tr>\n",
       "      <th>7570</th>\n",
       "      <td>Site Chemist</td>\n",
       "      <td>Mandeville Recruitment Group</td>\n",
       "      <td>Walsall</td>\n",
       "      <td>Permanent, full-time</td>\n",
       "      <td>No</td>\n",
       "      <td>£25,000 - £28,000 per annum</td>\n",
       "    </tr>\n",
       "    <tr>\n",
       "      <th>7571</th>\n",
       "      <td>Chemistry Graduate - Site Chemist</td>\n",
       "      <td>Mandeville Recruitment Group</td>\n",
       "      <td>Stoke-on-Trent</td>\n",
       "      <td>Permanent, full-time</td>\n",
       "      <td>No</td>\n",
       "      <td>£25,000 - £28,000 per annum</td>\n",
       "    </tr>\n",
       "    <tr>\n",
       "      <th>7572</th>\n",
       "      <td>Project Manager</td>\n",
       "      <td>Kelly Services</td>\n",
       "      <td>Reading</td>\n",
       "      <td>Contract, full-time</td>\n",
       "      <td>No</td>\n",
       "      <td>£25 - £28 per hour</td>\n",
       "    </tr>\n",
       "  </tbody>\n",
       "</table>\n",
       "</div>"
      ],
      "text/plain": [
       "                                            title  \\\n",
       "7568                          Fullstack Developer   \n",
       "7569  Health, Safety & Environment Manager - Food   \n",
       "7570                                 Site Chemist   \n",
       "7571            Chemistry Graduate - Site Chemist   \n",
       "7572                              Project Manager   \n",
       "\n",
       "                           company          location              contract  \\\n",
       "7568                           SR2    Cambridgeshire  Permanent, full-time   \n",
       "7569                           SRG  Chipping Campden  Permanent, full-time   \n",
       "7570  Mandeville Recruitment Group           Walsall  Permanent, full-time   \n",
       "7571  Mandeville Recruitment Group    Stoke-on-Trent  Permanent, full-time   \n",
       "7572                Kelly Services           Reading   Contract, full-time   \n",
       "\n",
       "              remote                       salary  \n",
       "7568  Work from home  £60,000 - £65,000 per annum  \n",
       "7569              No  £50,000 - £60,000 per annum  \n",
       "7570              No  £25,000 - £28,000 per annum  \n",
       "7571              No  £25,000 - £28,000 per annum  \n",
       "7572              No           £25 - £28 per hour  "
      ]
     },
     "execution_count": 5,
     "metadata": {},
     "output_type": "execute_result"
    }
   ],
   "source": [
    "# check bottom rows\n",
    "df.tail()"
   ]
  },
  {
   "cell_type": "code",
   "execution_count": 6,
   "metadata": {},
   "outputs": [
    {
     "data": {
      "text/plain": [
       "(7573, 6)"
      ]
     },
     "execution_count": 6,
     "metadata": {},
     "output_type": "execute_result"
    }
   ],
   "source": [
    "# check dimensions\n",
    "df.shape"
   ]
  },
  {
   "cell_type": "code",
   "execution_count": 7,
   "metadata": {},
   "outputs": [
    {
     "data": {
      "text/plain": [
       "title       object\n",
       "company     object\n",
       "location    object\n",
       "contract    object\n",
       "remote      object\n",
       "salary      object\n",
       "dtype: object"
      ]
     },
     "execution_count": 7,
     "metadata": {},
     "output_type": "execute_result"
    }
   ],
   "source": [
    "# check data types\n",
    "df.dtypes"
   ]
  },
  {
   "cell_type": "code",
   "execution_count": 8,
   "metadata": {},
   "outputs": [
    {
     "data": {
      "text/plain": [
       "title       0\n",
       "company     0\n",
       "location    0\n",
       "contract    0\n",
       "remote      0\n",
       "salary      0\n",
       "dtype: int64"
      ]
     },
     "execution_count": 8,
     "metadata": {},
     "output_type": "execute_result"
    }
   ],
   "source": [
    "# check for null values\n",
    "df.isnull().sum()"
   ]
  },
  {
   "cell_type": "markdown",
   "metadata": {},
   "source": [
    "#### Feature Engineering"
   ]
  },
  {
   "cell_type": "markdown",
   "metadata": {},
   "source": [
    "##### Data cleaning and Filtering"
   ]
  },
  {
   "cell_type": "code",
   "execution_count": 9,
   "metadata": {},
   "outputs": [
    {
     "data": {
      "text/html": [
       "<div>\n",
       "<style scoped>\n",
       "    .dataframe tbody tr th:only-of-type {\n",
       "        vertical-align: middle;\n",
       "    }\n",
       "\n",
       "    .dataframe tbody tr th {\n",
       "        vertical-align: top;\n",
       "    }\n",
       "\n",
       "    .dataframe thead th {\n",
       "        text-align: right;\n",
       "    }\n",
       "</style>\n",
       "<table border=\"1\" class=\"dataframe\">\n",
       "  <thead>\n",
       "    <tr style=\"text-align: right;\">\n",
       "      <th></th>\n",
       "      <th>title</th>\n",
       "      <th>company</th>\n",
       "      <th>location</th>\n",
       "      <th>contract</th>\n",
       "      <th>remote</th>\n",
       "      <th>salary</th>\n",
       "    </tr>\n",
       "  </thead>\n",
       "  <tbody>\n",
       "    <tr>\n",
       "      <th>0</th>\n",
       "      <td>Data Scientist</td>\n",
       "      <td>EG Group</td>\n",
       "      <td>Guide</td>\n",
       "      <td>Permanent, full-time</td>\n",
       "      <td>No</td>\n",
       "      <td>£30,000 per annum</td>\n",
       "    </tr>\n",
       "    <tr>\n",
       "      <th>1</th>\n",
       "      <td>Data Scientist</td>\n",
       "      <td>Adecco</td>\n",
       "      <td>Bristol</td>\n",
       "      <td>Permanent, full-time</td>\n",
       "      <td>No</td>\n",
       "      <td>£50,000 - £65,000 per annum</td>\n",
       "    </tr>\n",
       "    <tr>\n",
       "      <th>2</th>\n",
       "      <td>Data Scientist</td>\n",
       "      <td>IO Sphere</td>\n",
       "      <td>City of London</td>\n",
       "      <td>Permanent, full-time or part-time</td>\n",
       "      <td>No</td>\n",
       "      <td>£40,000 - £70,000 per annum</td>\n",
       "    </tr>\n",
       "    <tr>\n",
       "      <th>3</th>\n",
       "      <td>Data Scientist</td>\n",
       "      <td>ADLIB</td>\n",
       "      <td>Bath</td>\n",
       "      <td>Permanent, full-time</td>\n",
       "      <td>No</td>\n",
       "      <td>£40,000 - £50,000 per annum</td>\n",
       "    </tr>\n",
       "    <tr>\n",
       "      <th>4</th>\n",
       "      <td>Data Scientist</td>\n",
       "      <td>Pontoon</td>\n",
       "      <td>Crewe</td>\n",
       "      <td>Contract, full-time</td>\n",
       "      <td>No</td>\n",
       "      <td>£450 - £500 per day</td>\n",
       "    </tr>\n",
       "  </tbody>\n",
       "</table>\n",
       "</div>"
      ],
      "text/plain": [
       "            title    company        location  \\\n",
       "0  Data Scientist   EG Group           Guide   \n",
       "1  Data Scientist    Adecco          Bristol   \n",
       "2  Data Scientist  IO Sphere  City of London   \n",
       "3  Data Scientist      ADLIB            Bath   \n",
       "4  Data Scientist    Pontoon           Crewe   \n",
       "\n",
       "                            contract remote                       salary  \n",
       "0               Permanent, full-time     No            £30,000 per annum  \n",
       "1               Permanent, full-time     No  £50,000 - £65,000 per annum  \n",
       "2  Permanent, full-time or part-time     No  £40,000 - £70,000 per annum  \n",
       "3               Permanent, full-time     No  £40,000 - £50,000 per annum  \n",
       "4                Contract, full-time     No          £450 - £500 per day  "
      ]
     },
     "execution_count": 9,
     "metadata": {},
     "output_type": "execute_result"
    }
   ],
   "source": [
    "# check top of df\n",
    "df.head()"
   ]
  },
  {
   "cell_type": "code",
   "execution_count": 10,
   "metadata": {},
   "outputs": [
    {
     "data": {
      "text/plain": [
       "(3130, 6)"
      ]
     },
     "execution_count": 10,
     "metadata": {},
     "output_type": "execute_result"
    }
   ],
   "source": [
    "# check how many duplicated job posts in df\n",
    "df[df.duplicated()].shape"
   ]
  },
  {
   "cell_type": "code",
   "execution_count": 11,
   "metadata": {},
   "outputs": [
    {
     "data": {
      "text/plain": [
       "(4443, 6)"
      ]
     },
     "execution_count": 11,
     "metadata": {},
     "output_type": "execute_result"
    }
   ],
   "source": [
    "# drop duplicates\n",
    "df.drop_duplicates(inplace=True)\n",
    "\n",
    "# check df dimesions correspond with rows dropped\n",
    "df.shape"
   ]
  },
  {
   "cell_type": "code",
   "execution_count": 12,
   "metadata": {},
   "outputs": [
    {
     "data": {
      "text/plain": [
       "title       2871\n",
       "company     1060\n",
       "location     696\n",
       "contract       9\n",
       "remote         2\n",
       "salary      1234\n",
       "dtype: int64"
      ]
     },
     "execution_count": 12,
     "metadata": {},
     "output_type": "execute_result"
    }
   ],
   "source": [
    "# check number of unique values in each column\n",
    "df.nunique()"
   ]
  },
  {
   "cell_type": "code",
   "execution_count": 13,
   "metadata": {},
   "outputs": [],
   "source": [
    "# iterate through columns stripping all white space and converting to lower-case\n",
    "for column in df:\n",
    "    df[column] = df[column].str.strip().str.lower()"
   ]
  },
  {
   "cell_type": "code",
   "execution_count": 14,
   "metadata": {},
   "outputs": [
    {
     "data": {
      "text/plain": [
       "title       2796\n",
       "company     1060\n",
       "location     696\n",
       "contract       9\n",
       "remote         2\n",
       "salary      1234\n",
       "dtype: int64"
      ]
     },
     "execution_count": 14,
     "metadata": {},
     "output_type": "execute_result"
    }
   ],
   "source": [
    "# observe any changes\n",
    "df.nunique()"
   ]
  },
  {
   "cell_type": "code",
   "execution_count": 15,
   "metadata": {},
   "outputs": [
    {
     "data": {
      "text/html": [
       "<div>\n",
       "<style scoped>\n",
       "    .dataframe tbody tr th:only-of-type {\n",
       "        vertical-align: middle;\n",
       "    }\n",
       "\n",
       "    .dataframe tbody tr th {\n",
       "        vertical-align: top;\n",
       "    }\n",
       "\n",
       "    .dataframe thead th {\n",
       "        text-align: right;\n",
       "    }\n",
       "</style>\n",
       "<table border=\"1\" class=\"dataframe\">\n",
       "  <thead>\n",
       "    <tr style=\"text-align: right;\">\n",
       "      <th></th>\n",
       "      <th>title</th>\n",
       "      <th>company</th>\n",
       "      <th>location</th>\n",
       "      <th>contract</th>\n",
       "      <th>remote</th>\n",
       "      <th>salary</th>\n",
       "    </tr>\n",
       "  </thead>\n",
       "  <tbody>\n",
       "    <tr>\n",
       "      <th>0</th>\n",
       "      <td>data scientist</td>\n",
       "      <td>eg group</td>\n",
       "      <td>guide</td>\n",
       "      <td>permanent, full-time</td>\n",
       "      <td>no</td>\n",
       "      <td>£30,000 per annum</td>\n",
       "    </tr>\n",
       "    <tr>\n",
       "      <th>1</th>\n",
       "      <td>data scientist</td>\n",
       "      <td>adecco</td>\n",
       "      <td>bristol</td>\n",
       "      <td>permanent, full-time</td>\n",
       "      <td>no</td>\n",
       "      <td>£50,000 - £65,000 per annum</td>\n",
       "    </tr>\n",
       "    <tr>\n",
       "      <th>2</th>\n",
       "      <td>data scientist</td>\n",
       "      <td>io sphere</td>\n",
       "      <td>city of london</td>\n",
       "      <td>permanent, full-time or part-time</td>\n",
       "      <td>no</td>\n",
       "      <td>£40,000 - £70,000 per annum</td>\n",
       "    </tr>\n",
       "    <tr>\n",
       "      <th>3</th>\n",
       "      <td>data scientist</td>\n",
       "      <td>adlib</td>\n",
       "      <td>bath</td>\n",
       "      <td>permanent, full-time</td>\n",
       "      <td>no</td>\n",
       "      <td>£40,000 - £50,000 per annum</td>\n",
       "    </tr>\n",
       "    <tr>\n",
       "      <th>4</th>\n",
       "      <td>data scientist</td>\n",
       "      <td>pontoon</td>\n",
       "      <td>crewe</td>\n",
       "      <td>contract, full-time</td>\n",
       "      <td>no</td>\n",
       "      <td>£450 - £500 per day</td>\n",
       "    </tr>\n",
       "  </tbody>\n",
       "</table>\n",
       "</div>"
      ],
      "text/plain": [
       "            title    company        location  \\\n",
       "0  data scientist   eg group           guide   \n",
       "1  data scientist     adecco         bristol   \n",
       "2  data scientist  io sphere  city of london   \n",
       "3  data scientist      adlib            bath   \n",
       "4  data scientist    pontoon           crewe   \n",
       "\n",
       "                            contract remote                       salary  \n",
       "0               permanent, full-time     no            £30,000 per annum  \n",
       "1               permanent, full-time     no  £50,000 - £65,000 per annum  \n",
       "2  permanent, full-time or part-time     no  £40,000 - £70,000 per annum  \n",
       "3               permanent, full-time     no  £40,000 - £50,000 per annum  \n",
       "4                contract, full-time     no          £450 - £500 per day  "
      ]
     },
     "execution_count": 15,
     "metadata": {},
     "output_type": "execute_result"
    }
   ],
   "source": [
    "# check top of df\n",
    "df.head()"
   ]
  },
  {
   "cell_type": "code",
   "execution_count": 16,
   "metadata": {},
   "outputs": [],
   "source": [
    "# filter out job titles that are not relevant to data science\n",
    "df = df[df['title'].str.contains('data analyst|data scientist|data engineer|data science|machine learning|data specialist|business analyst|business intelligence|power bi analyst|senior analyst|sql analyst|quantitative|data manager')]\n",
    "\n",
    "# reset index\n",
    "df.reset_index(drop=True, inplace=True)"
   ]
  },
  {
   "cell_type": "code",
   "execution_count": 17,
   "metadata": {},
   "outputs": [
    {
     "data": {
      "text/plain": [
       "(837, 6)"
      ]
     },
     "execution_count": 17,
     "metadata": {},
     "output_type": "execute_result"
    }
   ],
   "source": [
    "# check new dimesions\n",
    "df.shape"
   ]
  },
  {
   "cell_type": "code",
   "execution_count": 18,
   "metadata": {},
   "outputs": [
    {
     "data": {
      "text/plain": [
       "title       397\n",
       "company     279\n",
       "location    200\n",
       "contract      6\n",
       "remote        2\n",
       "salary      320\n",
       "dtype: int64"
      ]
     },
     "execution_count": 18,
     "metadata": {},
     "output_type": "execute_result"
    }
   ],
   "source": [
    "df.nunique()"
   ]
  },
  {
   "cell_type": "markdown",
   "metadata": {},
   "source": [
    "##### Salary and Target Column"
   ]
  },
  {
   "cell_type": "code",
   "execution_count": 19,
   "metadata": {},
   "outputs": [
    {
     "data": {
      "text/html": [
       "<div>\n",
       "<style scoped>\n",
       "    .dataframe tbody tr th:only-of-type {\n",
       "        vertical-align: middle;\n",
       "    }\n",
       "\n",
       "    .dataframe tbody tr th {\n",
       "        vertical-align: top;\n",
       "    }\n",
       "\n",
       "    .dataframe thead th {\n",
       "        text-align: right;\n",
       "    }\n",
       "</style>\n",
       "<table border=\"1\" class=\"dataframe\">\n",
       "  <thead>\n",
       "    <tr style=\"text-align: right;\">\n",
       "      <th></th>\n",
       "      <th>title</th>\n",
       "      <th>company</th>\n",
       "      <th>location</th>\n",
       "      <th>contract</th>\n",
       "      <th>remote</th>\n",
       "      <th>salary</th>\n",
       "    </tr>\n",
       "  </thead>\n",
       "  <tbody>\n",
       "    <tr>\n",
       "      <th>133</th>\n",
       "      <td>data analyst</td>\n",
       "      <td>bigchange limited</td>\n",
       "      <td>leeds</td>\n",
       "      <td>permanent, full-time</td>\n",
       "      <td>no</td>\n",
       "      <td>salary not specified</td>\n",
       "    </tr>\n",
       "    <tr>\n",
       "      <th>717</th>\n",
       "      <td>data engineer - snowflake</td>\n",
       "      <td>bct resourcing</td>\n",
       "      <td>city of london</td>\n",
       "      <td>contract, full-time</td>\n",
       "      <td>no</td>\n",
       "      <td>salary not specified</td>\n",
       "    </tr>\n",
       "    <tr>\n",
       "      <th>762</th>\n",
       "      <td>senior data engineer - cayman islands (relocat...</td>\n",
       "      <td>steppingstones recruitment ltd.</td>\n",
       "      <td>london</td>\n",
       "      <td>permanent, full-time</td>\n",
       "      <td>no</td>\n",
       "      <td>usd$115,000 - usd$130,000 per annum</td>\n",
       "    </tr>\n",
       "    <tr>\n",
       "      <th>768</th>\n",
       "      <td>lead data engineer / contract / spark</td>\n",
       "      <td>zenith people ltd</td>\n",
       "      <td>london</td>\n",
       "      <td>contract, full-time</td>\n",
       "      <td>work from home</td>\n",
       "      <td>usd$700 per day</td>\n",
       "    </tr>\n",
       "  </tbody>\n",
       "</table>\n",
       "</div>"
      ],
      "text/plain": [
       "                                                 title  \\\n",
       "133                                       data analyst   \n",
       "717                          data engineer - snowflake   \n",
       "762  senior data engineer - cayman islands (relocat...   \n",
       "768              lead data engineer / contract / spark   \n",
       "\n",
       "                             company        location              contract  \\\n",
       "133                bigchange limited           leeds  permanent, full-time   \n",
       "717                   bct resourcing  city of london   contract, full-time   \n",
       "762  steppingstones recruitment ltd.          london  permanent, full-time   \n",
       "768                zenith people ltd          london   contract, full-time   \n",
       "\n",
       "             remote                               salary  \n",
       "133              no                 salary not specified  \n",
       "717              no                 salary not specified  \n",
       "762              no  usd$115,000 - usd$130,000 per annum  \n",
       "768  work from home                      usd$700 per day  "
      ]
     },
     "execution_count": 19,
     "metadata": {},
     "output_type": "execute_result"
    }
   ],
   "source": [
    "# observe salary types other than annual, day or hourly rate, and not in GBP\n",
    "df[~df['salary'].str.contains('£')]"
   ]
  },
  {
   "cell_type": "code",
   "execution_count": 20,
   "metadata": {},
   "outputs": [
    {
     "data": {
      "text/plain": [
       "(833, 6)"
      ]
     },
     "execution_count": 20,
     "metadata": {},
     "output_type": "execute_result"
    }
   ],
   "source": [
    "# drop columns where salary is not specified\n",
    "df = df[~df['salary'].str.contains('usd') & (df['salary'] != 'salary not specified')].reset_index(drop=True)\n",
    "df.shape"
   ]
  },
  {
   "cell_type": "code",
   "execution_count": 21,
   "metadata": {},
   "outputs": [
    {
     "data": {
      "text/plain": [
       "(711, 6)"
      ]
     },
     "execution_count": 21,
     "metadata": {},
     "output_type": "execute_result"
    }
   ],
   "source": [
    "# check how many job posts have an annual salary type\n",
    "annual_salary = df[df['salary'].str.contains('per annum')]\n",
    "annual_salary.shape"
   ]
  },
  {
   "cell_type": "code",
   "execution_count": 22,
   "metadata": {},
   "outputs": [
    {
     "data": {
      "text/plain": [
       "(122, 6)"
      ]
     },
     "execution_count": 22,
     "metadata": {},
     "output_type": "execute_result"
    }
   ],
   "source": [
    "# observe remaining job posts salary types\n",
    "other_salary = df[~df['salary'].str.contains('per annum')]\n",
    "other_salary.shape"
   ]
  },
  {
   "cell_type": "code",
   "execution_count": 23,
   "metadata": {},
   "outputs": [
    {
     "data": {
      "text/plain": [
       "(99, 6)"
      ]
     },
     "execution_count": 23,
     "metadata": {},
     "output_type": "execute_result"
    }
   ],
   "source": [
    "# check how many job posts have a day rate salary type\n",
    "per_day = other_salary[other_salary['salary'].str.contains('per day')]\n",
    "per_day.shape"
   ]
  },
  {
   "cell_type": "code",
   "execution_count": 24,
   "metadata": {},
   "outputs": [
    {
     "data": {
      "text/plain": [
       "(23, 6)"
      ]
     },
     "execution_count": 24,
     "metadata": {},
     "output_type": "execute_result"
    }
   ],
   "source": [
    "# check how many job posts have an hourly rate salary type\n",
    "per_hour = other_salary[other_salary['salary'].str.contains('per hour')]\n",
    "per_hour.shape"
   ]
  },
  {
   "cell_type": "code",
   "execution_count": 25,
   "metadata": {},
   "outputs": [],
   "source": [
    "# create column to categorise hourly rate salary\n",
    "df['hourly_rate'] = df['salary'].apply(lambda x: 1 if 'per hour' in x else 0)\n",
    "\n",
    "# create column to categorise day rate salary\n",
    "df['day_rate'] = df['salary'].apply(lambda x: 1 if 'per day' in x else 0)"
   ]
  },
  {
   "cell_type": "code",
   "execution_count": 26,
   "metadata": {},
   "outputs": [],
   "source": [
    "# clean salary column so it only contains 'min - max' salary data\n",
    "salary = df['salary'].apply(lambda x: x.split(' per')[0]).replace(r'[£,]','',regex=True)\n",
    "\n",
    "# create a min salary column and convert to int\n",
    "df['min_salary'] = salary.apply(lambda x: int(round(float(x.split(' -')[0]))))\n",
    "\n",
    "# create a max salary column and convert int\n",
    "df['max_salary'] = salary.apply(lambda x: int(round(float(x.split('-')[-1]))))\n",
    "\n",
    "# convert hourly rate to min and max salaries\n",
    "df['min_salary'] = df.apply(lambda x: x.min_salary*2000 if x.hourly_rate == 1 else x.min_salary, axis=1)\n",
    "df['max_salary'] = df.apply(lambda x: x.max_salary*2000 if x.hourly_rate == 1 else x.max_salary, axis=1)\n",
    "\n",
    "# convert day rate to min and max salaries\n",
    "df['min_salary'] = df.apply(lambda x: x.min_salary*260 if x.day_rate == 1 else x.min_salary, axis=1)\n",
    "df['max_salary'] = df.apply(lambda x: x.max_salary*260 if x.day_rate == 1 else x.max_salary, axis=1)\n",
    "\n",
    "# create an avg salary column and convert to int\n",
    "df['avg_salary'] = df[['min_salary', 'max_salary']].mean(axis=1).round().astype(int)"
   ]
  },
  {
   "cell_type": "markdown",
   "metadata": {},
   "source": [
    "##### Location Column"
   ]
  },
  {
   "cell_type": "code",
   "execution_count": 27,
   "metadata": {},
   "outputs": [
    {
     "data": {
      "text/html": [
       "<div>\n",
       "<style scoped>\n",
       "    .dataframe tbody tr th:only-of-type {\n",
       "        vertical-align: middle;\n",
       "    }\n",
       "\n",
       "    .dataframe tbody tr th {\n",
       "        vertical-align: top;\n",
       "    }\n",
       "\n",
       "    .dataframe thead th {\n",
       "        text-align: right;\n",
       "    }\n",
       "</style>\n",
       "<table border=\"1\" class=\"dataframe\">\n",
       "  <thead>\n",
       "    <tr style=\"text-align: right;\">\n",
       "      <th></th>\n",
       "      <th>title</th>\n",
       "      <th>company</th>\n",
       "      <th>location</th>\n",
       "      <th>contract</th>\n",
       "      <th>remote</th>\n",
       "      <th>salary</th>\n",
       "      <th>hourly_rate</th>\n",
       "      <th>day_rate</th>\n",
       "      <th>min_salary</th>\n",
       "      <th>max_salary</th>\n",
       "      <th>avg_salary</th>\n",
       "    </tr>\n",
       "  </thead>\n",
       "  <tbody>\n",
       "    <tr>\n",
       "      <th>0</th>\n",
       "      <td>data scientist</td>\n",
       "      <td>eg group</td>\n",
       "      <td>guide</td>\n",
       "      <td>permanent, full-time</td>\n",
       "      <td>no</td>\n",
       "      <td>£30,000 per annum</td>\n",
       "      <td>0</td>\n",
       "      <td>0</td>\n",
       "      <td>30000</td>\n",
       "      <td>30000</td>\n",
       "      <td>30000</td>\n",
       "    </tr>\n",
       "    <tr>\n",
       "      <th>1</th>\n",
       "      <td>data scientist</td>\n",
       "      <td>adecco</td>\n",
       "      <td>bristol</td>\n",
       "      <td>permanent, full-time</td>\n",
       "      <td>no</td>\n",
       "      <td>£50,000 - £65,000 per annum</td>\n",
       "      <td>0</td>\n",
       "      <td>0</td>\n",
       "      <td>50000</td>\n",
       "      <td>65000</td>\n",
       "      <td>57500</td>\n",
       "    </tr>\n",
       "    <tr>\n",
       "      <th>2</th>\n",
       "      <td>data scientist</td>\n",
       "      <td>io sphere</td>\n",
       "      <td>city of london</td>\n",
       "      <td>permanent, full-time or part-time</td>\n",
       "      <td>no</td>\n",
       "      <td>£40,000 - £70,000 per annum</td>\n",
       "      <td>0</td>\n",
       "      <td>0</td>\n",
       "      <td>40000</td>\n",
       "      <td>70000</td>\n",
       "      <td>55000</td>\n",
       "    </tr>\n",
       "    <tr>\n",
       "      <th>3</th>\n",
       "      <td>data scientist</td>\n",
       "      <td>adlib</td>\n",
       "      <td>bath</td>\n",
       "      <td>permanent, full-time</td>\n",
       "      <td>no</td>\n",
       "      <td>£40,000 - £50,000 per annum</td>\n",
       "      <td>0</td>\n",
       "      <td>0</td>\n",
       "      <td>40000</td>\n",
       "      <td>50000</td>\n",
       "      <td>45000</td>\n",
       "    </tr>\n",
       "    <tr>\n",
       "      <th>4</th>\n",
       "      <td>data scientist</td>\n",
       "      <td>pontoon</td>\n",
       "      <td>crewe</td>\n",
       "      <td>contract, full-time</td>\n",
       "      <td>no</td>\n",
       "      <td>£450 - £500 per day</td>\n",
       "      <td>0</td>\n",
       "      <td>1</td>\n",
       "      <td>117000</td>\n",
       "      <td>130000</td>\n",
       "      <td>123500</td>\n",
       "    </tr>\n",
       "  </tbody>\n",
       "</table>\n",
       "</div>"
      ],
      "text/plain": [
       "            title    company        location  \\\n",
       "0  data scientist   eg group           guide   \n",
       "1  data scientist     adecco         bristol   \n",
       "2  data scientist  io sphere  city of london   \n",
       "3  data scientist      adlib            bath   \n",
       "4  data scientist    pontoon           crewe   \n",
       "\n",
       "                            contract remote                       salary  \\\n",
       "0               permanent, full-time     no            £30,000 per annum   \n",
       "1               permanent, full-time     no  £50,000 - £65,000 per annum   \n",
       "2  permanent, full-time or part-time     no  £40,000 - £70,000 per annum   \n",
       "3               permanent, full-time     no  £40,000 - £50,000 per annum   \n",
       "4                contract, full-time     no          £450 - £500 per day   \n",
       "\n",
       "   hourly_rate  day_rate  min_salary  max_salary  avg_salary  \n",
       "0            0         0       30000       30000       30000  \n",
       "1            0         0       50000       65000       57500  \n",
       "2            0         0       40000       70000       55000  \n",
       "3            0         0       40000       50000       45000  \n",
       "4            0         1      117000      130000      123500  "
      ]
     },
     "execution_count": 27,
     "metadata": {},
     "output_type": "execute_result"
    }
   ],
   "source": [
    "# check df\n",
    "df.head()"
   ]
  },
  {
   "cell_type": "code",
   "execution_count": 28,
   "metadata": {},
   "outputs": [
    {
     "data": {
      "text/plain": [
       "london            300\n",
       "manchester         52\n",
       "city of london     29\n",
       "leeds              27\n",
       "birmingham         25\n",
       "                 ... \n",
       "high wycombe        1\n",
       "salisbury           1\n",
       "diss                1\n",
       "andover             1\n",
       "worcester           1\n",
       "Name: location, Length: 200, dtype: int64"
      ]
     },
     "execution_count": 28,
     "metadata": {},
     "output_type": "execute_result"
    }
   ],
   "source": [
    "# how many job posts in each location\n",
    "df.location.value_counts()"
   ]
  },
  {
   "cell_type": "code",
   "execution_count": 29,
   "metadata": {},
   "outputs": [
    {
     "data": {
      "text/plain": [
       "array(['city of london', 'london', 'birmingham', 'manchester', 'leeds',\n",
       "       'south london', 'hammersmith, london', 'east london',\n",
       "       'london gatwick airport', 'paddington, london',\n",
       "       'birmingham business park', 'camden (london borough)',\n",
       "       'central london', 'london heathrow airport', 'shoreditch, london'],\n",
       "      dtype=object)"
      ]
     },
     "execution_count": 29,
     "metadata": {},
     "output_type": "execute_result"
    }
   ],
   "source": [
    "# check for top locations under differnt names\n",
    "df[df.location.str.contains('london|birmingham|manchester|leeds')]['location'].unique()"
   ]
  },
  {
   "cell_type": "code",
   "execution_count": 30,
   "metadata": {},
   "outputs": [
    {
     "data": {
      "text/plain": [
       "array(['london', 'birmingham', 'manchester', 'leeds'], dtype=object)"
      ]
     },
     "execution_count": 30,
     "metadata": {},
     "output_type": "execute_result"
    }
   ],
   "source": [
    "# unify all top location names\n",
    "locations = df['location'].apply(lambda x: 'london' if 'london' in x else ('birmingham' if 'birmingham' in x else x))\n",
    "locations[locations.str.contains('london|birmingham|manchester|leeds')].unique()"
   ]
  },
  {
   "cell_type": "code",
   "execution_count": 31,
   "metadata": {},
   "outputs": [
    {
     "data": {
      "text/plain": [
       "array(['other cities', 'london', 'birmingham', 'manchester', 'leeds'],\n",
       "      dtype=object)"
      ]
     },
     "execution_count": 31,
     "metadata": {},
     "output_type": "execute_result"
    }
   ],
   "source": [
    "# calculate value counts for the locations\n",
    "value_counts = locations.value_counts()\n",
    "\n",
    "# filter value counts for top locations\n",
    "top_locations = value_counts[value_counts > 20].index.tolist()\n",
    "\n",
    "# create a city column\n",
    "df['city'] = locations.apply(lambda x: x if x in top_locations else 'other cities')\n",
    "df.city.unique()"
   ]
  },
  {
   "cell_type": "code",
   "execution_count": 32,
   "metadata": {},
   "outputs": [
    {
     "data": {
      "text/plain": [
       "other cities    385\n",
       "london          343\n",
       "manchester       52\n",
       "leeds            27\n",
       "birmingham       26\n",
       "Name: city, dtype: int64"
      ]
     },
     "execution_count": 32,
     "metadata": {},
     "output_type": "execute_result"
    }
   ],
   "source": [
    "df.city.value_counts()"
   ]
  },
  {
   "cell_type": "markdown",
   "metadata": {},
   "source": [
    "##### Title Column"
   ]
  },
  {
   "cell_type": "code",
   "execution_count": 33,
   "metadata": {},
   "outputs": [
    {
     "data": {
      "text/plain": [
       "data analyst                  84\n",
       "data engineer                 68\n",
       "senior data analyst           42\n",
       "data scientist                32\n",
       "business analyst              27\n",
       "senior data engineer          22\n",
       "lead data engineer            16\n",
       "technical business analyst    14\n",
       "senior data scientist         13\n",
       "lead data scientist            8\n",
       "lead data analyst              8\n",
       "hr data analyst                7\n",
       "junior data analyst            7\n",
       "senior analyst                 6\n",
       "senior business analyst        6\n",
       "Name: title, dtype: int64"
      ]
     },
     "execution_count": 33,
     "metadata": {},
     "output_type": "execute_result"
    }
   ],
   "source": [
    "# check for different title values\n",
    "value_counts = df.title.value_counts()\n",
    "\n",
    "# job titles with most job posts in descending order with threshold of 5\n",
    "top_titles = value_counts[value_counts > 5]\n",
    "\n",
    "top_titles"
   ]
  },
  {
   "cell_type": "code",
   "execution_count": 34,
   "metadata": {},
   "outputs": [
    {
     "data": {
      "text/plain": [
       "56"
      ]
     },
     "execution_count": 34,
     "metadata": {},
     "output_type": "execute_result"
    }
   ],
   "source": [
    "# check how many titles do not contain top titles\n",
    "df[~df.title.str.contains('data analyst|data scientist|data science|data engineer|machine learning|business analyst')]['title'].count()"
   ]
  },
  {
   "cell_type": "code",
   "execution_count": 35,
   "metadata": {},
   "outputs": [
    {
     "data": {
      "text/plain": [
       "252"
      ]
     },
     "execution_count": 35,
     "metadata": {},
     "output_type": "execute_result"
    }
   ],
   "source": [
    "# check how many titles contain seniority data\n",
    "df[df.title.str.contains('graduate|junior|senior|lead|head')]['title'].count()"
   ]
  },
  {
   "cell_type": "code",
   "execution_count": 36,
   "metadata": {},
   "outputs": [],
   "source": [
    "# create function to simplify titles\n",
    "def title_simplifier(title):\n",
    "    if 'data analyst' in title:\n",
    "        return 'data analyst'\n",
    "    elif 'data scientist' in title:\n",
    "        return 'data scientist'\n",
    "    elif 'data science' in title:\n",
    "        return 'data scientist'\n",
    "    elif 'data engineer' in title:\n",
    "        return 'data engineer'\n",
    "    elif 'machine learning' in title:\n",
    "        return 'machine learning engineer'\n",
    "    elif 'business analyst' in title:\n",
    "        return 'business analyst'\n",
    "    else:\n",
    "        return 'other'\n",
    "\n",
    "# create function for seniority\n",
    "def title_seniority(title):\n",
    "    if 'senior' in title:\n",
    "        return 'senior'\n",
    "    elif 'leader' in title:\n",
    "        return 'senior'\n",
    "    elif 'lead' in title:\n",
    "        return 'senior'\n",
    "    elif 'head' in title:\n",
    "        return 'senior'\n",
    "    elif 'apprentice' in title:\n",
    "        return 'junior'\n",
    "    elif 'entry level' in title:\n",
    "        return 'junior'\n",
    "    elif 'graduate' in title:\n",
    "        return 'junior'\n",
    "    elif 'junior' in title:\n",
    "        return 'junior'    \n",
    "    else:\n",
    "        return 'other'\n"
   ]
  },
  {
   "cell_type": "code",
   "execution_count": 37,
   "metadata": {},
   "outputs": [],
   "source": [
    "# create simplified titles column\n",
    "df['title_simplified'] = df.title.apply(title_simplifier)\n",
    "\n",
    "# create seniority column\n",
    "df['seniority'] = df.title.apply(title_seniority)"
   ]
  },
  {
   "cell_type": "code",
   "execution_count": 38,
   "metadata": {},
   "outputs": [
    {
     "data": {
      "text/plain": [
       "data analyst                 270\n",
       "data engineer                233\n",
       "business analyst             156\n",
       "data scientist                97\n",
       "other                         56\n",
       "machine learning engineer     21\n",
       "Name: title_simplified, dtype: int64"
      ]
     },
     "execution_count": 38,
     "metadata": {},
     "output_type": "execute_result"
    }
   ],
   "source": [
    "# check distribution of jobs across simplified titles\n",
    "df.title_simplified.value_counts()"
   ]
  },
  {
   "cell_type": "code",
   "execution_count": 39,
   "metadata": {},
   "outputs": [
    {
     "data": {
      "text/plain": [
       "other     568\n",
       "senior    206\n",
       "junior     59\n",
       "Name: seniority, dtype: int64"
      ]
     },
     "execution_count": 39,
     "metadata": {},
     "output_type": "execute_result"
    }
   ],
   "source": [
    "# check distribution of jobs across seniority\n",
    "df.seniority.value_counts()"
   ]
  },
  {
   "cell_type": "markdown",
   "metadata": {},
   "source": [
    "##### Contract Column"
   ]
  },
  {
   "cell_type": "code",
   "execution_count": 40,
   "metadata": {},
   "outputs": [
    {
     "data": {
      "text/html": [
       "<div>\n",
       "<style scoped>\n",
       "    .dataframe tbody tr th:only-of-type {\n",
       "        vertical-align: middle;\n",
       "    }\n",
       "\n",
       "    .dataframe tbody tr th {\n",
       "        vertical-align: top;\n",
       "    }\n",
       "\n",
       "    .dataframe thead th {\n",
       "        text-align: right;\n",
       "    }\n",
       "</style>\n",
       "<table border=\"1\" class=\"dataframe\">\n",
       "  <thead>\n",
       "    <tr style=\"text-align: right;\">\n",
       "      <th></th>\n",
       "      <th>title</th>\n",
       "      <th>company</th>\n",
       "      <th>location</th>\n",
       "      <th>contract</th>\n",
       "      <th>remote</th>\n",
       "      <th>salary</th>\n",
       "      <th>hourly_rate</th>\n",
       "      <th>day_rate</th>\n",
       "      <th>min_salary</th>\n",
       "      <th>max_salary</th>\n",
       "      <th>avg_salary</th>\n",
       "      <th>city</th>\n",
       "      <th>title_simplified</th>\n",
       "      <th>seniority</th>\n",
       "    </tr>\n",
       "  </thead>\n",
       "  <tbody>\n",
       "    <tr>\n",
       "      <th>0</th>\n",
       "      <td>data scientist</td>\n",
       "      <td>eg group</td>\n",
       "      <td>guide</td>\n",
       "      <td>permanent, full-time</td>\n",
       "      <td>no</td>\n",
       "      <td>£30,000 per annum</td>\n",
       "      <td>0</td>\n",
       "      <td>0</td>\n",
       "      <td>30000</td>\n",
       "      <td>30000</td>\n",
       "      <td>30000</td>\n",
       "      <td>other cities</td>\n",
       "      <td>data scientist</td>\n",
       "      <td>other</td>\n",
       "    </tr>\n",
       "    <tr>\n",
       "      <th>1</th>\n",
       "      <td>data scientist</td>\n",
       "      <td>adecco</td>\n",
       "      <td>bristol</td>\n",
       "      <td>permanent, full-time</td>\n",
       "      <td>no</td>\n",
       "      <td>£50,000 - £65,000 per annum</td>\n",
       "      <td>0</td>\n",
       "      <td>0</td>\n",
       "      <td>50000</td>\n",
       "      <td>65000</td>\n",
       "      <td>57500</td>\n",
       "      <td>other cities</td>\n",
       "      <td>data scientist</td>\n",
       "      <td>other</td>\n",
       "    </tr>\n",
       "    <tr>\n",
       "      <th>2</th>\n",
       "      <td>data scientist</td>\n",
       "      <td>io sphere</td>\n",
       "      <td>city of london</td>\n",
       "      <td>permanent, full-time or part-time</td>\n",
       "      <td>no</td>\n",
       "      <td>£40,000 - £70,000 per annum</td>\n",
       "      <td>0</td>\n",
       "      <td>0</td>\n",
       "      <td>40000</td>\n",
       "      <td>70000</td>\n",
       "      <td>55000</td>\n",
       "      <td>london</td>\n",
       "      <td>data scientist</td>\n",
       "      <td>other</td>\n",
       "    </tr>\n",
       "    <tr>\n",
       "      <th>3</th>\n",
       "      <td>data scientist</td>\n",
       "      <td>adlib</td>\n",
       "      <td>bath</td>\n",
       "      <td>permanent, full-time</td>\n",
       "      <td>no</td>\n",
       "      <td>£40,000 - £50,000 per annum</td>\n",
       "      <td>0</td>\n",
       "      <td>0</td>\n",
       "      <td>40000</td>\n",
       "      <td>50000</td>\n",
       "      <td>45000</td>\n",
       "      <td>other cities</td>\n",
       "      <td>data scientist</td>\n",
       "      <td>other</td>\n",
       "    </tr>\n",
       "    <tr>\n",
       "      <th>4</th>\n",
       "      <td>data scientist</td>\n",
       "      <td>pontoon</td>\n",
       "      <td>crewe</td>\n",
       "      <td>contract, full-time</td>\n",
       "      <td>no</td>\n",
       "      <td>£450 - £500 per day</td>\n",
       "      <td>0</td>\n",
       "      <td>1</td>\n",
       "      <td>117000</td>\n",
       "      <td>130000</td>\n",
       "      <td>123500</td>\n",
       "      <td>other cities</td>\n",
       "      <td>data scientist</td>\n",
       "      <td>other</td>\n",
       "    </tr>\n",
       "  </tbody>\n",
       "</table>\n",
       "</div>"
      ],
      "text/plain": [
       "            title    company        location  \\\n",
       "0  data scientist   eg group           guide   \n",
       "1  data scientist     adecco         bristol   \n",
       "2  data scientist  io sphere  city of london   \n",
       "3  data scientist      adlib            bath   \n",
       "4  data scientist    pontoon           crewe   \n",
       "\n",
       "                            contract remote                       salary  \\\n",
       "0               permanent, full-time     no            £30,000 per annum   \n",
       "1               permanent, full-time     no  £50,000 - £65,000 per annum   \n",
       "2  permanent, full-time or part-time     no  £40,000 - £70,000 per annum   \n",
       "3               permanent, full-time     no  £40,000 - £50,000 per annum   \n",
       "4                contract, full-time     no          £450 - £500 per day   \n",
       "\n",
       "   hourly_rate  day_rate  min_salary  max_salary  avg_salary          city  \\\n",
       "0            0         0       30000       30000       30000  other cities   \n",
       "1            0         0       50000       65000       57500  other cities   \n",
       "2            0         0       40000       70000       55000        london   \n",
       "3            0         0       40000       50000       45000  other cities   \n",
       "4            0         1      117000      130000      123500  other cities   \n",
       "\n",
       "  title_simplified seniority  \n",
       "0   data scientist     other  \n",
       "1   data scientist     other  \n",
       "2   data scientist     other  \n",
       "3   data scientist     other  \n",
       "4   data scientist     other  "
      ]
     },
     "execution_count": 40,
     "metadata": {},
     "output_type": "execute_result"
    }
   ],
   "source": [
    "# check df\n",
    "df.head()"
   ]
  },
  {
   "cell_type": "code",
   "execution_count": 41,
   "metadata": {},
   "outputs": [
    {
     "data": {
      "text/plain": [
       "permanent, full-time                 688\n",
       "contract, full-time                  128\n",
       "temporary, full-time                  12\n",
       "permanent, full-time or part-time      3\n",
       "permanent, part-time                   1\n",
       "contract, part-time                    1\n",
       "Name: contract, dtype: int64"
      ]
     },
     "execution_count": 41,
     "metadata": {},
     "output_type": "execute_result"
    }
   ],
   "source": [
    "# check distribution of contracts\n",
    "df.contract.value_counts()"
   ]
  },
  {
   "cell_type": "code",
   "execution_count": 42,
   "metadata": {},
   "outputs": [],
   "source": [
    "# create a permanent column\n",
    "df['permanent'] = df.contract.apply(lambda x: 1 if 'permanent' in x else 0) \n",
    "\n",
    "# create a temporary column\n",
    "df['temporary'] = df.contract.apply(lambda x: 1 if 'temporary' in x or 'contract' in x else 0)"
   ]
  },
  {
   "cell_type": "code",
   "execution_count": 43,
   "metadata": {},
   "outputs": [
    {
     "data": {
      "text/plain": [
       "1    692\n",
       "0    141\n",
       "Name: permanent, dtype: int64"
      ]
     },
     "execution_count": 43,
     "metadata": {},
     "output_type": "execute_result"
    }
   ],
   "source": [
    "# sanity check\n",
    "df.permanent.value_counts()"
   ]
  },
  {
   "cell_type": "code",
   "execution_count": 44,
   "metadata": {},
   "outputs": [
    {
     "data": {
      "text/plain": [
       "0    692\n",
       "1    141\n",
       "Name: temporary, dtype: int64"
      ]
     },
     "execution_count": 44,
     "metadata": {},
     "output_type": "execute_result"
    }
   ],
   "source": [
    "# sanity check\n",
    "df.temporary.value_counts()"
   ]
  },
  {
   "cell_type": "markdown",
   "metadata": {},
   "source": [
    "##### Remote Column"
   ]
  },
  {
   "cell_type": "code",
   "execution_count": 45,
   "metadata": {},
   "outputs": [
    {
     "data": {
      "text/html": [
       "<div>\n",
       "<style scoped>\n",
       "    .dataframe tbody tr th:only-of-type {\n",
       "        vertical-align: middle;\n",
       "    }\n",
       "\n",
       "    .dataframe tbody tr th {\n",
       "        vertical-align: top;\n",
       "    }\n",
       "\n",
       "    .dataframe thead th {\n",
       "        text-align: right;\n",
       "    }\n",
       "</style>\n",
       "<table border=\"1\" class=\"dataframe\">\n",
       "  <thead>\n",
       "    <tr style=\"text-align: right;\">\n",
       "      <th></th>\n",
       "      <th>title</th>\n",
       "      <th>company</th>\n",
       "      <th>location</th>\n",
       "      <th>contract</th>\n",
       "      <th>remote</th>\n",
       "      <th>salary</th>\n",
       "      <th>hourly_rate</th>\n",
       "      <th>day_rate</th>\n",
       "      <th>min_salary</th>\n",
       "      <th>max_salary</th>\n",
       "      <th>avg_salary</th>\n",
       "      <th>city</th>\n",
       "      <th>title_simplified</th>\n",
       "      <th>seniority</th>\n",
       "      <th>permanent</th>\n",
       "      <th>temporary</th>\n",
       "    </tr>\n",
       "  </thead>\n",
       "  <tbody>\n",
       "    <tr>\n",
       "      <th>0</th>\n",
       "      <td>data scientist</td>\n",
       "      <td>eg group</td>\n",
       "      <td>guide</td>\n",
       "      <td>permanent, full-time</td>\n",
       "      <td>no</td>\n",
       "      <td>£30,000 per annum</td>\n",
       "      <td>0</td>\n",
       "      <td>0</td>\n",
       "      <td>30000</td>\n",
       "      <td>30000</td>\n",
       "      <td>30000</td>\n",
       "      <td>other cities</td>\n",
       "      <td>data scientist</td>\n",
       "      <td>other</td>\n",
       "      <td>1</td>\n",
       "      <td>0</td>\n",
       "    </tr>\n",
       "    <tr>\n",
       "      <th>1</th>\n",
       "      <td>data scientist</td>\n",
       "      <td>adecco</td>\n",
       "      <td>bristol</td>\n",
       "      <td>permanent, full-time</td>\n",
       "      <td>no</td>\n",
       "      <td>£50,000 - £65,000 per annum</td>\n",
       "      <td>0</td>\n",
       "      <td>0</td>\n",
       "      <td>50000</td>\n",
       "      <td>65000</td>\n",
       "      <td>57500</td>\n",
       "      <td>other cities</td>\n",
       "      <td>data scientist</td>\n",
       "      <td>other</td>\n",
       "      <td>1</td>\n",
       "      <td>0</td>\n",
       "    </tr>\n",
       "    <tr>\n",
       "      <th>2</th>\n",
       "      <td>data scientist</td>\n",
       "      <td>io sphere</td>\n",
       "      <td>city of london</td>\n",
       "      <td>permanent, full-time or part-time</td>\n",
       "      <td>no</td>\n",
       "      <td>£40,000 - £70,000 per annum</td>\n",
       "      <td>0</td>\n",
       "      <td>0</td>\n",
       "      <td>40000</td>\n",
       "      <td>70000</td>\n",
       "      <td>55000</td>\n",
       "      <td>london</td>\n",
       "      <td>data scientist</td>\n",
       "      <td>other</td>\n",
       "      <td>1</td>\n",
       "      <td>0</td>\n",
       "    </tr>\n",
       "    <tr>\n",
       "      <th>3</th>\n",
       "      <td>data scientist</td>\n",
       "      <td>adlib</td>\n",
       "      <td>bath</td>\n",
       "      <td>permanent, full-time</td>\n",
       "      <td>no</td>\n",
       "      <td>£40,000 - £50,000 per annum</td>\n",
       "      <td>0</td>\n",
       "      <td>0</td>\n",
       "      <td>40000</td>\n",
       "      <td>50000</td>\n",
       "      <td>45000</td>\n",
       "      <td>other cities</td>\n",
       "      <td>data scientist</td>\n",
       "      <td>other</td>\n",
       "      <td>1</td>\n",
       "      <td>0</td>\n",
       "    </tr>\n",
       "    <tr>\n",
       "      <th>4</th>\n",
       "      <td>data scientist</td>\n",
       "      <td>pontoon</td>\n",
       "      <td>crewe</td>\n",
       "      <td>contract, full-time</td>\n",
       "      <td>no</td>\n",
       "      <td>£450 - £500 per day</td>\n",
       "      <td>0</td>\n",
       "      <td>1</td>\n",
       "      <td>117000</td>\n",
       "      <td>130000</td>\n",
       "      <td>123500</td>\n",
       "      <td>other cities</td>\n",
       "      <td>data scientist</td>\n",
       "      <td>other</td>\n",
       "      <td>0</td>\n",
       "      <td>1</td>\n",
       "    </tr>\n",
       "  </tbody>\n",
       "</table>\n",
       "</div>"
      ],
      "text/plain": [
       "            title    company        location  \\\n",
       "0  data scientist   eg group           guide   \n",
       "1  data scientist     adecco         bristol   \n",
       "2  data scientist  io sphere  city of london   \n",
       "3  data scientist      adlib            bath   \n",
       "4  data scientist    pontoon           crewe   \n",
       "\n",
       "                            contract remote                       salary  \\\n",
       "0               permanent, full-time     no            £30,000 per annum   \n",
       "1               permanent, full-time     no  £50,000 - £65,000 per annum   \n",
       "2  permanent, full-time or part-time     no  £40,000 - £70,000 per annum   \n",
       "3               permanent, full-time     no  £40,000 - £50,000 per annum   \n",
       "4                contract, full-time     no          £450 - £500 per day   \n",
       "\n",
       "   hourly_rate  day_rate  min_salary  max_salary  avg_salary          city  \\\n",
       "0            0         0       30000       30000       30000  other cities   \n",
       "1            0         0       50000       65000       57500  other cities   \n",
       "2            0         0       40000       70000       55000        london   \n",
       "3            0         0       40000       50000       45000  other cities   \n",
       "4            0         1      117000      130000      123500  other cities   \n",
       "\n",
       "  title_simplified seniority  permanent  temporary  \n",
       "0   data scientist     other          1          0  \n",
       "1   data scientist     other          1          0  \n",
       "2   data scientist     other          1          0  \n",
       "3   data scientist     other          1          0  \n",
       "4   data scientist     other          0          1  "
      ]
     },
     "execution_count": 45,
     "metadata": {},
     "output_type": "execute_result"
    }
   ],
   "source": [
    "# check df\n",
    "df.head()"
   ]
  },
  {
   "cell_type": "code",
   "execution_count": 46,
   "metadata": {},
   "outputs": [
    {
     "data": {
      "text/plain": [
       "no                744\n",
       "work from home     89\n",
       "Name: remote, dtype: int64"
      ]
     },
     "execution_count": 46,
     "metadata": {},
     "output_type": "execute_result"
    }
   ],
   "source": [
    "# check distribution of work from home jobs\n",
    "df.remote.value_counts()"
   ]
  },
  {
   "cell_type": "code",
   "execution_count": 47,
   "metadata": {},
   "outputs": [],
   "source": [
    "# create a remote binary column\n",
    "df['remote_binary'] = df.remote.map({'work from home': 1, 'no': 0})"
   ]
  },
  {
   "cell_type": "code",
   "execution_count": 48,
   "metadata": {},
   "outputs": [
    {
     "data": {
      "text/plain": [
       "0    744\n",
       "1     89\n",
       "Name: remote_binary, dtype: int64"
      ]
     },
     "execution_count": 48,
     "metadata": {},
     "output_type": "execute_result"
    }
   ],
   "source": [
    "# sanity check\n",
    "df.remote_binary.value_counts()"
   ]
  },
  {
   "cell_type": "markdown",
   "metadata": {},
   "source": [
    "##### Company Column"
   ]
  },
  {
   "cell_type": "code",
   "execution_count": 49,
   "metadata": {},
   "outputs": [
    {
     "data": {
      "text/plain": [
       "harnham - data & analytics recruitment    113\n",
       "nigel frank international                  46\n",
       "hays specialist recruitment limited        20\n",
       "oscar technology                           18\n",
       "reed                                       15\n",
       "gregory martin international               14\n",
       "sanderson                                  13\n",
       "robert walters                             12\n",
       "client server ltd.                         11\n",
       "qa ltd                                     11\n",
       "understanding recruitment                  11\n",
       "betechnology group limited                 11\n",
       "Name: company, dtype: int64"
      ]
     },
     "execution_count": 49,
     "metadata": {},
     "output_type": "execute_result"
    }
   ],
   "source": [
    "# job posts distributed across each company\n",
    "value_counts = df.company.value_counts()\n",
    "\n",
    "# observe companies in decending order for number of jobs posted\n",
    "top_companies = value_counts[value_counts > 10]\n",
    "top_companies"
   ]
  },
  {
   "cell_type": "code",
   "execution_count": 50,
   "metadata": {},
   "outputs": [
    {
     "data": {
      "text/plain": [
       "250"
      ]
     },
     "execution_count": 50,
     "metadata": {},
     "output_type": "execute_result"
    }
   ],
   "source": [
    "# how many companies have recuitment in their name\n",
    "df[df.company.str.contains('recruitment')]['company'].count()"
   ]
  },
  {
   "cell_type": "code",
   "execution_count": 51,
   "metadata": {},
   "outputs": [],
   "source": [
    "# create column for comapnies with recruitment in their name signifying they are recruitment consulatncies\n",
    "df['recruitment_consultancy'] = df.company.apply(lambda x: 1 if 'recruitment' in x else 0)"
   ]
  },
  {
   "cell_type": "code",
   "execution_count": 52,
   "metadata": {},
   "outputs": [
    {
     "data": {
      "text/plain": [
       "0    583\n",
       "1    250\n",
       "Name: recruitment_consultancy, dtype: int64"
      ]
     },
     "execution_count": 52,
     "metadata": {},
     "output_type": "execute_result"
    }
   ],
   "source": [
    "# sanity check\n",
    "df.recruitment_consultancy.value_counts()"
   ]
  },
  {
   "cell_type": "code",
   "execution_count": 53,
   "metadata": {},
   "outputs": [
    {
     "data": {
      "text/html": [
       "<div>\n",
       "<style scoped>\n",
       "    .dataframe tbody tr th:only-of-type {\n",
       "        vertical-align: middle;\n",
       "    }\n",
       "\n",
       "    .dataframe tbody tr th {\n",
       "        vertical-align: top;\n",
       "    }\n",
       "\n",
       "    .dataframe thead th {\n",
       "        text-align: right;\n",
       "    }\n",
       "</style>\n",
       "<table border=\"1\" class=\"dataframe\">\n",
       "  <thead>\n",
       "    <tr style=\"text-align: right;\">\n",
       "      <th></th>\n",
       "      <th>title</th>\n",
       "      <th>company</th>\n",
       "      <th>location</th>\n",
       "      <th>contract</th>\n",
       "      <th>remote</th>\n",
       "      <th>salary</th>\n",
       "      <th>hourly_rate</th>\n",
       "      <th>day_rate</th>\n",
       "      <th>min_salary</th>\n",
       "      <th>max_salary</th>\n",
       "      <th>avg_salary</th>\n",
       "      <th>city</th>\n",
       "      <th>title_simplified</th>\n",
       "      <th>seniority</th>\n",
       "      <th>permanent</th>\n",
       "      <th>temporary</th>\n",
       "      <th>remote_binary</th>\n",
       "      <th>recruitment_consultancy</th>\n",
       "    </tr>\n",
       "  </thead>\n",
       "  <tbody>\n",
       "    <tr>\n",
       "      <th>0</th>\n",
       "      <td>data scientist</td>\n",
       "      <td>eg group</td>\n",
       "      <td>guide</td>\n",
       "      <td>permanent, full-time</td>\n",
       "      <td>no</td>\n",
       "      <td>£30,000 per annum</td>\n",
       "      <td>0</td>\n",
       "      <td>0</td>\n",
       "      <td>30000</td>\n",
       "      <td>30000</td>\n",
       "      <td>30000</td>\n",
       "      <td>other cities</td>\n",
       "      <td>data scientist</td>\n",
       "      <td>other</td>\n",
       "      <td>1</td>\n",
       "      <td>0</td>\n",
       "      <td>0</td>\n",
       "      <td>0</td>\n",
       "    </tr>\n",
       "    <tr>\n",
       "      <th>1</th>\n",
       "      <td>data scientist</td>\n",
       "      <td>adecco</td>\n",
       "      <td>bristol</td>\n",
       "      <td>permanent, full-time</td>\n",
       "      <td>no</td>\n",
       "      <td>£50,000 - £65,000 per annum</td>\n",
       "      <td>0</td>\n",
       "      <td>0</td>\n",
       "      <td>50000</td>\n",
       "      <td>65000</td>\n",
       "      <td>57500</td>\n",
       "      <td>other cities</td>\n",
       "      <td>data scientist</td>\n",
       "      <td>other</td>\n",
       "      <td>1</td>\n",
       "      <td>0</td>\n",
       "      <td>0</td>\n",
       "      <td>0</td>\n",
       "    </tr>\n",
       "    <tr>\n",
       "      <th>2</th>\n",
       "      <td>data scientist</td>\n",
       "      <td>io sphere</td>\n",
       "      <td>city of london</td>\n",
       "      <td>permanent, full-time or part-time</td>\n",
       "      <td>no</td>\n",
       "      <td>£40,000 - £70,000 per annum</td>\n",
       "      <td>0</td>\n",
       "      <td>0</td>\n",
       "      <td>40000</td>\n",
       "      <td>70000</td>\n",
       "      <td>55000</td>\n",
       "      <td>london</td>\n",
       "      <td>data scientist</td>\n",
       "      <td>other</td>\n",
       "      <td>1</td>\n",
       "      <td>0</td>\n",
       "      <td>0</td>\n",
       "      <td>0</td>\n",
       "    </tr>\n",
       "    <tr>\n",
       "      <th>3</th>\n",
       "      <td>data scientist</td>\n",
       "      <td>adlib</td>\n",
       "      <td>bath</td>\n",
       "      <td>permanent, full-time</td>\n",
       "      <td>no</td>\n",
       "      <td>£40,000 - £50,000 per annum</td>\n",
       "      <td>0</td>\n",
       "      <td>0</td>\n",
       "      <td>40000</td>\n",
       "      <td>50000</td>\n",
       "      <td>45000</td>\n",
       "      <td>other cities</td>\n",
       "      <td>data scientist</td>\n",
       "      <td>other</td>\n",
       "      <td>1</td>\n",
       "      <td>0</td>\n",
       "      <td>0</td>\n",
       "      <td>0</td>\n",
       "    </tr>\n",
       "    <tr>\n",
       "      <th>4</th>\n",
       "      <td>data scientist</td>\n",
       "      <td>pontoon</td>\n",
       "      <td>crewe</td>\n",
       "      <td>contract, full-time</td>\n",
       "      <td>no</td>\n",
       "      <td>£450 - £500 per day</td>\n",
       "      <td>0</td>\n",
       "      <td>1</td>\n",
       "      <td>117000</td>\n",
       "      <td>130000</td>\n",
       "      <td>123500</td>\n",
       "      <td>other cities</td>\n",
       "      <td>data scientist</td>\n",
       "      <td>other</td>\n",
       "      <td>0</td>\n",
       "      <td>1</td>\n",
       "      <td>0</td>\n",
       "      <td>0</td>\n",
       "    </tr>\n",
       "  </tbody>\n",
       "</table>\n",
       "</div>"
      ],
      "text/plain": [
       "            title    company        location  \\\n",
       "0  data scientist   eg group           guide   \n",
       "1  data scientist     adecco         bristol   \n",
       "2  data scientist  io sphere  city of london   \n",
       "3  data scientist      adlib            bath   \n",
       "4  data scientist    pontoon           crewe   \n",
       "\n",
       "                            contract remote                       salary  \\\n",
       "0               permanent, full-time     no            £30,000 per annum   \n",
       "1               permanent, full-time     no  £50,000 - £65,000 per annum   \n",
       "2  permanent, full-time or part-time     no  £40,000 - £70,000 per annum   \n",
       "3               permanent, full-time     no  £40,000 - £50,000 per annum   \n",
       "4                contract, full-time     no          £450 - £500 per day   \n",
       "\n",
       "   hourly_rate  day_rate  min_salary  max_salary  avg_salary          city  \\\n",
       "0            0         0       30000       30000       30000  other cities   \n",
       "1            0         0       50000       65000       57500  other cities   \n",
       "2            0         0       40000       70000       55000        london   \n",
       "3            0         0       40000       50000       45000  other cities   \n",
       "4            0         1      117000      130000      123500  other cities   \n",
       "\n",
       "  title_simplified seniority  permanent  temporary  remote_binary  \\\n",
       "0   data scientist     other          1          0              0   \n",
       "1   data scientist     other          1          0              0   \n",
       "2   data scientist     other          1          0              0   \n",
       "3   data scientist     other          1          0              0   \n",
       "4   data scientist     other          0          1              0   \n",
       "\n",
       "   recruitment_consultancy  \n",
       "0                        0  \n",
       "1                        0  \n",
       "2                        0  \n",
       "3                        0  \n",
       "4                        0  "
      ]
     },
     "execution_count": 53,
     "metadata": {},
     "output_type": "execute_result"
    }
   ],
   "source": [
    "df.head()"
   ]
  },
  {
   "cell_type": "code",
   "execution_count": 54,
   "metadata": {},
   "outputs": [],
   "source": [
    "# save cleaned data frame to csv file\n",
    "df.to_csv('reed_data_cleaned.csv', index=False)"
   ]
  }
 ],
 "metadata": {
  "kernelspec": {
   "display_name": "base",
   "language": "python",
   "name": "python3"
  },
  "language_info": {
   "codemirror_mode": {
    "name": "ipython",
    "version": 3
   },
   "file_extension": ".py",
   "mimetype": "text/x-python",
   "name": "python",
   "nbconvert_exporter": "python",
   "pygments_lexer": "ipython3",
   "version": "3.10.9"
  },
  "orig_nbformat": 4
 },
 "nbformat": 4,
 "nbformat_minor": 2
}
