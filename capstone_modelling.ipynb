{
 "cells": [
  {
   "cell_type": "markdown",
   "metadata": {},
   "source": [
    "<p style=\"text-align:center;\">\n",
    "<img src=\"https://github.com/digital-futures-academy/DataScienceMasterResources/blob/main/Resources/datascience-notebook-header.png?raw=true\"\n",
    "     alt=\"DigitalFuturesLogo\"\n",
    "     style=\"float: center; margin-right: 10px;\" />\n",
    "</p>"
   ]
  },
  {
   "cell_type": "markdown",
   "metadata": {},
   "source": [
    "### Modelling"
   ]
  },
  {
   "cell_type": "code",
   "execution_count": 182,
   "metadata": {},
   "outputs": [],
   "source": [
    "import pandas as pd\n",
    "import numpy as np\n",
    "import matplotlib.pyplot as plt\n",
    "\n",
    "from sklearn.model_selection import train_test_split\n",
    "from sklearn.linear_model import LinearRegression, Ridge, Lasso\n",
    "from sklearn.ensemble import RandomForestRegressor\n",
    "from sklearn.tree import DecisionTreeRegressor\n",
    "from sklearn.model_selection import GridSearchCV\n",
    "from sklearn.model_selection import cross_val_score\n",
    "from sklearn import metrics\n",
    "\n",
    "import statsmodels.api as sm\n",
    "import statsmodels.tools.eval_measures as sm_tools"
   ]
  },
  {
   "cell_type": "markdown",
   "metadata": {},
   "source": [
    "#### Load and Check Data"
   ]
  },
  {
   "cell_type": "code",
   "execution_count": 183,
   "metadata": {},
   "outputs": [],
   "source": [
    "# read data frame\n",
    "df = pd.read_csv('reed_data_eda.csv')"
   ]
  },
  {
   "cell_type": "code",
   "execution_count": 184,
   "metadata": {},
   "outputs": [
    {
     "data": {
      "text/html": [
       "<div>\n",
       "<style scoped>\n",
       "    .dataframe tbody tr th:only-of-type {\n",
       "        vertical-align: middle;\n",
       "    }\n",
       "\n",
       "    .dataframe tbody tr th {\n",
       "        vertical-align: top;\n",
       "    }\n",
       "\n",
       "    .dataframe thead th {\n",
       "        text-align: right;\n",
       "    }\n",
       "</style>\n",
       "<table border=\"1\" class=\"dataframe\">\n",
       "  <thead>\n",
       "    <tr style=\"text-align: right;\">\n",
       "      <th></th>\n",
       "      <th>title</th>\n",
       "      <th>company</th>\n",
       "      <th>location</th>\n",
       "      <th>contract</th>\n",
       "      <th>remote</th>\n",
       "      <th>salary</th>\n",
       "      <th>hourly_rate</th>\n",
       "      <th>day_rate</th>\n",
       "      <th>min_salary</th>\n",
       "      <th>max_salary</th>\n",
       "      <th>avg_salary</th>\n",
       "      <th>city</th>\n",
       "      <th>title_simplified</th>\n",
       "      <th>seniority</th>\n",
       "      <th>permanent</th>\n",
       "      <th>temporary</th>\n",
       "      <th>remote_binary</th>\n",
       "      <th>recruitment_consultancy</th>\n",
       "    </tr>\n",
       "  </thead>\n",
       "  <tbody>\n",
       "    <tr>\n",
       "      <th>0</th>\n",
       "      <td>data scientist</td>\n",
       "      <td>eg group</td>\n",
       "      <td>guide</td>\n",
       "      <td>permanent, full-time</td>\n",
       "      <td>no</td>\n",
       "      <td>£30,000 per annum</td>\n",
       "      <td>0</td>\n",
       "      <td>0</td>\n",
       "      <td>30000</td>\n",
       "      <td>30000</td>\n",
       "      <td>30000</td>\n",
       "      <td>other cities</td>\n",
       "      <td>data scientist</td>\n",
       "      <td>other</td>\n",
       "      <td>1</td>\n",
       "      <td>0</td>\n",
       "      <td>0</td>\n",
       "      <td>0</td>\n",
       "    </tr>\n",
       "  </tbody>\n",
       "</table>\n",
       "</div>"
      ],
      "text/plain": [
       "            title   company location              contract remote  \\\n",
       "0  data scientist  eg group    guide  permanent, full-time     no   \n",
       "\n",
       "              salary  hourly_rate  day_rate  min_salary  max_salary  \\\n",
       "0  £30,000 per annum            0         0       30000       30000   \n",
       "\n",
       "   avg_salary          city title_simplified seniority  permanent  temporary  \\\n",
       "0       30000  other cities   data scientist     other          1          0   \n",
       "\n",
       "   remote_binary  recruitment_consultancy  \n",
       "0              0                        0  "
      ]
     },
     "execution_count": 184,
     "metadata": {},
     "output_type": "execute_result"
    }
   ],
   "source": [
    "# check top of df\n",
    "df.head(1)"
   ]
  },
  {
   "cell_type": "code",
   "execution_count": 185,
   "metadata": {},
   "outputs": [
    {
     "data": {
      "text/html": [
       "<div>\n",
       "<style scoped>\n",
       "    .dataframe tbody tr th:only-of-type {\n",
       "        vertical-align: middle;\n",
       "    }\n",
       "\n",
       "    .dataframe tbody tr th {\n",
       "        vertical-align: top;\n",
       "    }\n",
       "\n",
       "    .dataframe thead th {\n",
       "        text-align: right;\n",
       "    }\n",
       "</style>\n",
       "<table border=\"1\" class=\"dataframe\">\n",
       "  <thead>\n",
       "    <tr style=\"text-align: right;\">\n",
       "      <th></th>\n",
       "      <th>hourly_rate</th>\n",
       "      <th>day_rate</th>\n",
       "      <th>min_salary</th>\n",
       "      <th>max_salary</th>\n",
       "      <th>avg_salary</th>\n",
       "      <th>city</th>\n",
       "      <th>title_simplified</th>\n",
       "      <th>seniority</th>\n",
       "      <th>permanent</th>\n",
       "      <th>temporary</th>\n",
       "      <th>remote_binary</th>\n",
       "      <th>recruitment_consultancy</th>\n",
       "    </tr>\n",
       "  </thead>\n",
       "  <tbody>\n",
       "    <tr>\n",
       "      <th>0</th>\n",
       "      <td>0</td>\n",
       "      <td>0</td>\n",
       "      <td>30000</td>\n",
       "      <td>30000</td>\n",
       "      <td>30000</td>\n",
       "      <td>other cities</td>\n",
       "      <td>data scientist</td>\n",
       "      <td>other</td>\n",
       "      <td>1</td>\n",
       "      <td>0</td>\n",
       "      <td>0</td>\n",
       "      <td>0</td>\n",
       "    </tr>\n",
       "    <tr>\n",
       "      <th>1</th>\n",
       "      <td>0</td>\n",
       "      <td>0</td>\n",
       "      <td>50000</td>\n",
       "      <td>65000</td>\n",
       "      <td>57500</td>\n",
       "      <td>other cities</td>\n",
       "      <td>data scientist</td>\n",
       "      <td>other</td>\n",
       "      <td>1</td>\n",
       "      <td>0</td>\n",
       "      <td>0</td>\n",
       "      <td>0</td>\n",
       "    </tr>\n",
       "    <tr>\n",
       "      <th>2</th>\n",
       "      <td>0</td>\n",
       "      <td>0</td>\n",
       "      <td>40000</td>\n",
       "      <td>70000</td>\n",
       "      <td>55000</td>\n",
       "      <td>london</td>\n",
       "      <td>data scientist</td>\n",
       "      <td>other</td>\n",
       "      <td>1</td>\n",
       "      <td>0</td>\n",
       "      <td>0</td>\n",
       "      <td>0</td>\n",
       "    </tr>\n",
       "    <tr>\n",
       "      <th>3</th>\n",
       "      <td>0</td>\n",
       "      <td>0</td>\n",
       "      <td>40000</td>\n",
       "      <td>50000</td>\n",
       "      <td>45000</td>\n",
       "      <td>other cities</td>\n",
       "      <td>data scientist</td>\n",
       "      <td>other</td>\n",
       "      <td>1</td>\n",
       "      <td>0</td>\n",
       "      <td>0</td>\n",
       "      <td>0</td>\n",
       "    </tr>\n",
       "    <tr>\n",
       "      <th>4</th>\n",
       "      <td>0</td>\n",
       "      <td>1</td>\n",
       "      <td>117000</td>\n",
       "      <td>130000</td>\n",
       "      <td>123500</td>\n",
       "      <td>other cities</td>\n",
       "      <td>data scientist</td>\n",
       "      <td>other</td>\n",
       "      <td>0</td>\n",
       "      <td>1</td>\n",
       "      <td>0</td>\n",
       "      <td>0</td>\n",
       "    </tr>\n",
       "  </tbody>\n",
       "</table>\n",
       "</div>"
      ],
      "text/plain": [
       "   hourly_rate  day_rate  min_salary  max_salary  avg_salary          city  \\\n",
       "0            0         0       30000       30000       30000  other cities   \n",
       "1            0         0       50000       65000       57500  other cities   \n",
       "2            0         0       40000       70000       55000        london   \n",
       "3            0         0       40000       50000       45000  other cities   \n",
       "4            0         1      117000      130000      123500  other cities   \n",
       "\n",
       "  title_simplified seniority  permanent  temporary  remote_binary  \\\n",
       "0   data scientist     other          1          0              0   \n",
       "1   data scientist     other          1          0              0   \n",
       "2   data scientist     other          1          0              0   \n",
       "3   data scientist     other          1          0              0   \n",
       "4   data scientist     other          0          1              0   \n",
       "\n",
       "   recruitment_consultancy  \n",
       "0                        0  \n",
       "1                        0  \n",
       "2                        0  \n",
       "3                        0  \n",
       "4                        0  "
      ]
     },
     "execution_count": 185,
     "metadata": {},
     "output_type": "execute_result"
    }
   ],
   "source": [
    "# select columns for modelling\n",
    "df = df.iloc[:,6:]\n",
    "df.head()"
   ]
  },
  {
   "cell_type": "code",
   "execution_count": 186,
   "metadata": {},
   "outputs": [
    {
     "data": {
      "text/plain": [
       "(833, 12)"
      ]
     },
     "execution_count": 186,
     "metadata": {},
     "output_type": "execute_result"
    }
   ],
   "source": [
    "# check dimensions\n",
    "df.shape"
   ]
  },
  {
   "cell_type": "markdown",
   "metadata": {},
   "source": [
    "#### Feature Engineering"
   ]
  },
  {
   "cell_type": "code",
   "execution_count": 187,
   "metadata": {},
   "outputs": [],
   "source": [
    "# set option to view all columns\n",
    "pd.set_option('display.max_columns', None)"
   ]
  },
  {
   "cell_type": "code",
   "execution_count": 188,
   "metadata": {},
   "outputs": [
    {
     "data": {
      "text/html": [
       "<div>\n",
       "<style scoped>\n",
       "    .dataframe tbody tr th:only-of-type {\n",
       "        vertical-align: middle;\n",
       "    }\n",
       "\n",
       "    .dataframe tbody tr th {\n",
       "        vertical-align: top;\n",
       "    }\n",
       "\n",
       "    .dataframe thead th {\n",
       "        text-align: right;\n",
       "    }\n",
       "</style>\n",
       "<table border=\"1\" class=\"dataframe\">\n",
       "  <thead>\n",
       "    <tr style=\"text-align: right;\">\n",
       "      <th></th>\n",
       "      <th>hourly_rate</th>\n",
       "      <th>day_rate</th>\n",
       "      <th>min_salary</th>\n",
       "      <th>max_salary</th>\n",
       "      <th>avg_salary</th>\n",
       "      <th>permanent</th>\n",
       "      <th>temporary</th>\n",
       "      <th>remote_binary</th>\n",
       "      <th>recruitment_consultancy</th>\n",
       "      <th>city_leeds</th>\n",
       "      <th>city_london</th>\n",
       "      <th>city_manchester</th>\n",
       "      <th>city_other cities</th>\n",
       "      <th>title_simplified_data analyst</th>\n",
       "      <th>title_simplified_data engineer</th>\n",
       "      <th>title_simplified_data scientist</th>\n",
       "      <th>title_simplified_machine learning engineer</th>\n",
       "      <th>title_simplified_other</th>\n",
       "      <th>seniority_other</th>\n",
       "      <th>seniority_senior</th>\n",
       "    </tr>\n",
       "  </thead>\n",
       "  <tbody>\n",
       "    <tr>\n",
       "      <th>0</th>\n",
       "      <td>0</td>\n",
       "      <td>0</td>\n",
       "      <td>30000</td>\n",
       "      <td>30000</td>\n",
       "      <td>30000</td>\n",
       "      <td>1</td>\n",
       "      <td>0</td>\n",
       "      <td>0</td>\n",
       "      <td>0</td>\n",
       "      <td>0</td>\n",
       "      <td>0</td>\n",
       "      <td>0</td>\n",
       "      <td>1</td>\n",
       "      <td>0</td>\n",
       "      <td>0</td>\n",
       "      <td>1</td>\n",
       "      <td>0</td>\n",
       "      <td>0</td>\n",
       "      <td>1</td>\n",
       "      <td>0</td>\n",
       "    </tr>\n",
       "    <tr>\n",
       "      <th>1</th>\n",
       "      <td>0</td>\n",
       "      <td>0</td>\n",
       "      <td>50000</td>\n",
       "      <td>65000</td>\n",
       "      <td>57500</td>\n",
       "      <td>1</td>\n",
       "      <td>0</td>\n",
       "      <td>0</td>\n",
       "      <td>0</td>\n",
       "      <td>0</td>\n",
       "      <td>0</td>\n",
       "      <td>0</td>\n",
       "      <td>1</td>\n",
       "      <td>0</td>\n",
       "      <td>0</td>\n",
       "      <td>1</td>\n",
       "      <td>0</td>\n",
       "      <td>0</td>\n",
       "      <td>1</td>\n",
       "      <td>0</td>\n",
       "    </tr>\n",
       "    <tr>\n",
       "      <th>2</th>\n",
       "      <td>0</td>\n",
       "      <td>0</td>\n",
       "      <td>40000</td>\n",
       "      <td>70000</td>\n",
       "      <td>55000</td>\n",
       "      <td>1</td>\n",
       "      <td>0</td>\n",
       "      <td>0</td>\n",
       "      <td>0</td>\n",
       "      <td>0</td>\n",
       "      <td>1</td>\n",
       "      <td>0</td>\n",
       "      <td>0</td>\n",
       "      <td>0</td>\n",
       "      <td>0</td>\n",
       "      <td>1</td>\n",
       "      <td>0</td>\n",
       "      <td>0</td>\n",
       "      <td>1</td>\n",
       "      <td>0</td>\n",
       "    </tr>\n",
       "    <tr>\n",
       "      <th>3</th>\n",
       "      <td>0</td>\n",
       "      <td>0</td>\n",
       "      <td>40000</td>\n",
       "      <td>50000</td>\n",
       "      <td>45000</td>\n",
       "      <td>1</td>\n",
       "      <td>0</td>\n",
       "      <td>0</td>\n",
       "      <td>0</td>\n",
       "      <td>0</td>\n",
       "      <td>0</td>\n",
       "      <td>0</td>\n",
       "      <td>1</td>\n",
       "      <td>0</td>\n",
       "      <td>0</td>\n",
       "      <td>1</td>\n",
       "      <td>0</td>\n",
       "      <td>0</td>\n",
       "      <td>1</td>\n",
       "      <td>0</td>\n",
       "    </tr>\n",
       "    <tr>\n",
       "      <th>4</th>\n",
       "      <td>0</td>\n",
       "      <td>1</td>\n",
       "      <td>117000</td>\n",
       "      <td>130000</td>\n",
       "      <td>123500</td>\n",
       "      <td>0</td>\n",
       "      <td>1</td>\n",
       "      <td>0</td>\n",
       "      <td>0</td>\n",
       "      <td>0</td>\n",
       "      <td>0</td>\n",
       "      <td>0</td>\n",
       "      <td>1</td>\n",
       "      <td>0</td>\n",
       "      <td>0</td>\n",
       "      <td>1</td>\n",
       "      <td>0</td>\n",
       "      <td>0</td>\n",
       "      <td>1</td>\n",
       "      <td>0</td>\n",
       "    </tr>\n",
       "  </tbody>\n",
       "</table>\n",
       "</div>"
      ],
      "text/plain": [
       "   hourly_rate  day_rate  min_salary  max_salary  avg_salary  permanent  \\\n",
       "0            0         0       30000       30000       30000          1   \n",
       "1            0         0       50000       65000       57500          1   \n",
       "2            0         0       40000       70000       55000          1   \n",
       "3            0         0       40000       50000       45000          1   \n",
       "4            0         1      117000      130000      123500          0   \n",
       "\n",
       "   temporary  remote_binary  recruitment_consultancy  city_leeds  city_london  \\\n",
       "0          0              0                        0           0            0   \n",
       "1          0              0                        0           0            0   \n",
       "2          0              0                        0           0            1   \n",
       "3          0              0                        0           0            0   \n",
       "4          1              0                        0           0            0   \n",
       "\n",
       "   city_manchester  city_other cities  title_simplified_data analyst  \\\n",
       "0                0                  1                              0   \n",
       "1                0                  1                              0   \n",
       "2                0                  0                              0   \n",
       "3                0                  1                              0   \n",
       "4                0                  1                              0   \n",
       "\n",
       "   title_simplified_data engineer  title_simplified_data scientist  \\\n",
       "0                               0                                1   \n",
       "1                               0                                1   \n",
       "2                               0                                1   \n",
       "3                               0                                1   \n",
       "4                               0                                1   \n",
       "\n",
       "   title_simplified_machine learning engineer  title_simplified_other  \\\n",
       "0                                           0                       0   \n",
       "1                                           0                       0   \n",
       "2                                           0                       0   \n",
       "3                                           0                       0   \n",
       "4                                           0                       0   \n",
       "\n",
       "   seniority_other  seniority_senior  \n",
       "0                1                 0  \n",
       "1                1                 0  \n",
       "2                1                 0  \n",
       "3                1                 0  \n",
       "4                1                 0  "
      ]
     },
     "execution_count": 188,
     "metadata": {},
     "output_type": "execute_result"
    }
   ],
   "source": [
    "# one hot encode categorical columns\n",
    "df = pd.get_dummies(df, drop_first=True)\n",
    "df.head()"
   ]
  },
  {
   "cell_type": "code",
   "execution_count": 189,
   "metadata": {},
   "outputs": [
    {
     "data": {
      "text/plain": [
       "(833, 20)"
      ]
     },
     "execution_count": 189,
     "metadata": {},
     "output_type": "execute_result"
    }
   ],
   "source": [
    "# check dimesions\n",
    "df.shape"
   ]
  },
  {
   "cell_type": "markdown",
   "metadata": {},
   "source": [
    "#### Train, Test, Split"
   ]
  },
  {
   "cell_type": "code",
   "execution_count": 190,
   "metadata": {},
   "outputs": [],
   "source": [
    "# creating X and y\n",
    "X = df.drop('avg_salary', axis=1)\n",
    "y = df['avg_salary']"
   ]
  },
  {
   "cell_type": "code",
   "execution_count": 191,
   "metadata": {},
   "outputs": [],
   "source": [
    "# split data into train and test\n",
    "X_train, X_test, y_train, y_test = train_test_split(X, y, test_size = 0.2, random_state = 21)"
   ]
  },
  {
   "cell_type": "code",
   "execution_count": 192,
   "metadata": {},
   "outputs": [
    {
     "data": {
      "text/plain": [
       "(666, 19)"
      ]
     },
     "execution_count": 192,
     "metadata": {},
     "output_type": "execute_result"
    }
   ],
   "source": [
    "# check train data dimensions\n",
    "X_train.shape"
   ]
  },
  {
   "cell_type": "code",
   "execution_count": 193,
   "metadata": {},
   "outputs": [
    {
     "data": {
      "text/plain": [
       "666"
      ]
     },
     "execution_count": 193,
     "metadata": {},
     "output_type": "execute_result"
    }
   ],
   "source": [
    "# check index between X_train and y_train match\n",
    "(X_train.index == y_train.index).sum()"
   ]
  },
  {
   "cell_type": "markdown",
   "metadata": {},
   "source": [
    "#### Linear Regression Model (stats models)"
   ]
  },
  {
   "cell_type": "markdown",
   "metadata": {},
   "source": [
    "##### Train Model"
   ]
  },
  {
   "cell_type": "code",
   "execution_count": 194,
   "metadata": {},
   "outputs": [],
   "source": [
    "# create a function to add the constant\n",
    "def feature_eng(X):\n",
    "    X = sm.add_constant(X)\n",
    "    return X"
   ]
  },
  {
   "cell_type": "code",
   "execution_count": 195,
   "metadata": {},
   "outputs": [],
   "source": [
    "# add constant to X_train\n",
    "X_train_fe = feature_eng(X_train)"
   ]
  },
  {
   "cell_type": "code",
   "execution_count": 196,
   "metadata": {},
   "outputs": [],
   "source": [
    "# feature columns to select for training\n",
    "feature_columns =  ['const',\n",
    "                    'hourly_rate',\n",
    "                    'day_rate',\n",
    "                    #'min_salary',\n",
    "                    #'max_salary',\n",
    "                    #'permanent',\n",
    "                    'temporary',\n",
    "                    'remote_binary',\n",
    "                    'recruitment_consultancy',\n",
    "                    'city_leeds',\n",
    "                    'city_london',\n",
    "                    'city_manchester',\n",
    "                    'city_other cities',\n",
    "                    'title_simplified_data analyst',\n",
    "                    'title_simplified_data engineer',\n",
    "                    'title_simplified_data scientist',\n",
    "                    'title_simplified_machine learning engineer',\n",
    "                    'title_simplified_other',\n",
    "                    'seniority_other',\n",
    "                    'seniority_senior']"
   ]
  },
  {
   "cell_type": "code",
   "execution_count": 197,
   "metadata": {},
   "outputs": [
    {
     "data": {
      "text/html": [
       "<table class=\"simpletable\">\n",
       "<caption>OLS Regression Results</caption>\n",
       "<tr>\n",
       "  <th>Dep. Variable:</th>       <td>avg_salary</td>    <th>  R-squared:         </th> <td>   0.680</td> \n",
       "</tr>\n",
       "<tr>\n",
       "  <th>Model:</th>                   <td>OLS</td>       <th>  Adj. R-squared:    </th> <td>   0.672</td> \n",
       "</tr>\n",
       "<tr>\n",
       "  <th>Method:</th>             <td>Least Squares</td>  <th>  F-statistic:       </th> <td>   86.11</td> \n",
       "</tr>\n",
       "<tr>\n",
       "  <th>Date:</th>             <td>Mon, 18 Sep 2023</td> <th>  Prob (F-statistic):</th> <td>1.81e-148</td>\n",
       "</tr>\n",
       "<tr>\n",
       "  <th>Time:</th>                 <td>20:47:34</td>     <th>  Log-Likelihood:    </th> <td> -7481.0</td> \n",
       "</tr>\n",
       "<tr>\n",
       "  <th>No. Observations:</th>      <td>   666</td>      <th>  AIC:               </th> <td>1.500e+04</td>\n",
       "</tr>\n",
       "<tr>\n",
       "  <th>Df Residuals:</th>          <td>   649</td>      <th>  BIC:               </th> <td>1.507e+04</td>\n",
       "</tr>\n",
       "<tr>\n",
       "  <th>Df Model:</th>              <td>    16</td>      <th>                     </th>     <td> </td>    \n",
       "</tr>\n",
       "<tr>\n",
       "  <th>Covariance Type:</th>      <td>nonrobust</td>    <th>                     </th>     <td> </td>    \n",
       "</tr>\n",
       "</table>\n",
       "<table class=\"simpletable\">\n",
       "<tr>\n",
       "                       <td></td>                         <th>coef</th>     <th>std err</th>      <th>t</th>      <th>P>|t|</th>  <th>[0.025</th>    <th>0.975]</th>  \n",
       "</tr>\n",
       "<tr>\n",
       "  <th>const</th>                                      <td> 2.366e+04</td> <td> 5109.798</td> <td>    4.631</td> <td> 0.000</td> <td> 1.36e+04</td> <td> 3.37e+04</td>\n",
       "</tr>\n",
       "<tr>\n",
       "  <th>hourly_rate</th>                                <td> 6632.1830</td> <td> 5412.009</td> <td>    1.225</td> <td> 0.221</td> <td>-3994.978</td> <td> 1.73e+04</td>\n",
       "</tr>\n",
       "<tr>\n",
       "  <th>day_rate</th>                                   <td> 6.995e+04</td> <td> 3908.006</td> <td>   17.900</td> <td> 0.000</td> <td> 6.23e+04</td> <td> 7.76e+04</td>\n",
       "</tr>\n",
       "<tr>\n",
       "  <th>temporary</th>                                  <td>-3276.3188</td> <td> 3544.744</td> <td>   -0.924</td> <td> 0.356</td> <td>-1.02e+04</td> <td> 3684.233</td>\n",
       "</tr>\n",
       "<tr>\n",
       "  <th>remote_binary</th>                              <td>  989.3772</td> <td> 2442.581</td> <td>    0.405</td> <td> 0.686</td> <td>-3806.939</td> <td> 5785.693</td>\n",
       "</tr>\n",
       "<tr>\n",
       "  <th>recruitment_consultancy</th>                    <td> 2062.2395</td> <td> 1646.886</td> <td>    1.252</td> <td> 0.211</td> <td>-1171.628</td> <td> 5296.107</td>\n",
       "</tr>\n",
       "<tr>\n",
       "  <th>city_leeds</th>                                 <td> 4619.1517</td> <td> 5724.634</td> <td>    0.807</td> <td> 0.420</td> <td>-6621.889</td> <td> 1.59e+04</td>\n",
       "</tr>\n",
       "<tr>\n",
       "  <th>city_london</th>                                <td> 1.368e+04</td> <td> 4267.476</td> <td>    3.206</td> <td> 0.001</td> <td> 5302.622</td> <td> 2.21e+04</td>\n",
       "</tr>\n",
       "<tr>\n",
       "  <th>city_manchester</th>                            <td> 4385.2542</td> <td> 4925.568</td> <td>    0.890</td> <td> 0.374</td> <td>-5286.719</td> <td> 1.41e+04</td>\n",
       "</tr>\n",
       "<tr>\n",
       "  <th>city_other cities</th>                          <td> 4131.0871</td> <td> 4248.970</td> <td>    0.972</td> <td> 0.331</td> <td>-4212.302</td> <td> 1.25e+04</td>\n",
       "</tr>\n",
       "<tr>\n",
       "  <th>title_simplified_data analyst</th>              <td>-8758.2576</td> <td> 2155.774</td> <td>   -4.063</td> <td> 0.000</td> <td> -1.3e+04</td> <td>-4525.123</td>\n",
       "</tr>\n",
       "<tr>\n",
       "  <th>title_simplified_data engineer</th>             <td> 5777.6213</td> <td> 2318.565</td> <td>    2.492</td> <td> 0.013</td> <td> 1224.828</td> <td> 1.03e+04</td>\n",
       "</tr>\n",
       "<tr>\n",
       "  <th>title_simplified_data scientist</th>            <td> 1.215e+04</td> <td> 2791.950</td> <td>    4.351</td> <td> 0.000</td> <td> 6666.678</td> <td> 1.76e+04</td>\n",
       "</tr>\n",
       "<tr>\n",
       "  <th>title_simplified_machine learning engineer</th> <td> 2.729e+04</td> <td> 4641.210</td> <td>    5.879</td> <td> 0.000</td> <td> 1.82e+04</td> <td> 3.64e+04</td>\n",
       "</tr>\n",
       "<tr>\n",
       "  <th>title_simplified_other</th>                     <td>-5781.6994</td> <td> 3318.515</td> <td>   -1.742</td> <td> 0.082</td> <td>-1.23e+04</td> <td>  734.622</td>\n",
       "</tr>\n",
       "<tr>\n",
       "  <th>seniority_other</th>                            <td> 2.126e+04</td> <td> 2884.205</td> <td>    7.373</td> <td> 0.000</td> <td> 1.56e+04</td> <td> 2.69e+04</td>\n",
       "</tr>\n",
       "<tr>\n",
       "  <th>seniority_senior</th>                           <td> 3.715e+04</td> <td> 3112.009</td> <td>   11.939</td> <td> 0.000</td> <td>  3.1e+04</td> <td> 4.33e+04</td>\n",
       "</tr>\n",
       "</table>\n",
       "<table class=\"simpletable\">\n",
       "<tr>\n",
       "  <th>Omnibus:</th>       <td>73.463</td> <th>  Durbin-Watson:     </th> <td>   1.996</td>\n",
       "</tr>\n",
       "<tr>\n",
       "  <th>Prob(Omnibus):</th> <td> 0.000</td> <th>  Jarque-Bera (JB):  </th> <td> 353.863</td>\n",
       "</tr>\n",
       "<tr>\n",
       "  <th>Skew:</th>          <td> 0.353</td> <th>  Prob(JB):          </th> <td>1.44e-77</td>\n",
       "</tr>\n",
       "<tr>\n",
       "  <th>Kurtosis:</th>      <td> 6.500</td> <th>  Cond. No.          </th> <td>    20.3</td>\n",
       "</tr>\n",
       "</table><br/><br/>Notes:<br/>[1] Standard Errors assume that the covariance matrix of the errors is correctly specified."
      ],
      "text/plain": [
       "<class 'statsmodels.iolib.summary.Summary'>\n",
       "\"\"\"\n",
       "                            OLS Regression Results                            \n",
       "==============================================================================\n",
       "Dep. Variable:             avg_salary   R-squared:                       0.680\n",
       "Model:                            OLS   Adj. R-squared:                  0.672\n",
       "Method:                 Least Squares   F-statistic:                     86.11\n",
       "Date:                Mon, 18 Sep 2023   Prob (F-statistic):          1.81e-148\n",
       "Time:                        20:47:34   Log-Likelihood:                -7481.0\n",
       "No. Observations:                 666   AIC:                         1.500e+04\n",
       "Df Residuals:                     649   BIC:                         1.507e+04\n",
       "Df Model:                          16                                         \n",
       "Covariance Type:            nonrobust                                         \n",
       "==============================================================================================================\n",
       "                                                 coef    std err          t      P>|t|      [0.025      0.975]\n",
       "--------------------------------------------------------------------------------------------------------------\n",
       "const                                       2.366e+04   5109.798      4.631      0.000    1.36e+04    3.37e+04\n",
       "hourly_rate                                 6632.1830   5412.009      1.225      0.221   -3994.978    1.73e+04\n",
       "day_rate                                    6.995e+04   3908.006     17.900      0.000    6.23e+04    7.76e+04\n",
       "temporary                                  -3276.3188   3544.744     -0.924      0.356   -1.02e+04    3684.233\n",
       "remote_binary                                989.3772   2442.581      0.405      0.686   -3806.939    5785.693\n",
       "recruitment_consultancy                     2062.2395   1646.886      1.252      0.211   -1171.628    5296.107\n",
       "city_leeds                                  4619.1517   5724.634      0.807      0.420   -6621.889    1.59e+04\n",
       "city_london                                 1.368e+04   4267.476      3.206      0.001    5302.622    2.21e+04\n",
       "city_manchester                             4385.2542   4925.568      0.890      0.374   -5286.719    1.41e+04\n",
       "city_other cities                           4131.0871   4248.970      0.972      0.331   -4212.302    1.25e+04\n",
       "title_simplified_data analyst              -8758.2576   2155.774     -4.063      0.000    -1.3e+04   -4525.123\n",
       "title_simplified_data engineer              5777.6213   2318.565      2.492      0.013    1224.828    1.03e+04\n",
       "title_simplified_data scientist             1.215e+04   2791.950      4.351      0.000    6666.678    1.76e+04\n",
       "title_simplified_machine learning engineer  2.729e+04   4641.210      5.879      0.000    1.82e+04    3.64e+04\n",
       "title_simplified_other                     -5781.6994   3318.515     -1.742      0.082   -1.23e+04     734.622\n",
       "seniority_other                             2.126e+04   2884.205      7.373      0.000    1.56e+04    2.69e+04\n",
       "seniority_senior                            3.715e+04   3112.009     11.939      0.000     3.1e+04    4.33e+04\n",
       "==============================================================================\n",
       "Omnibus:                       73.463   Durbin-Watson:                   1.996\n",
       "Prob(Omnibus):                  0.000   Jarque-Bera (JB):              353.863\n",
       "Skew:                           0.353   Prob(JB):                     1.44e-77\n",
       "Kurtosis:                       6.500   Cond. No.                         20.3\n",
       "==============================================================================\n",
       "\n",
       "Notes:\n",
       "[1] Standard Errors assume that the covariance matrix of the errors is correctly specified.\n",
       "\"\"\""
      ]
     },
     "execution_count": 197,
     "metadata": {},
     "output_type": "execute_result"
    }
   ],
   "source": [
    "# fit the model using the training data\n",
    "model = sm.OLS(y_train, X_train_fe[feature_columns]).fit()\n",
    "model.summary()"
   ]
  },
  {
   "cell_type": "code",
   "execution_count": 198,
   "metadata": {},
   "outputs": [
    {
     "name": "stdout",
     "output_type": "stream",
     "text": [
      "rmse: 18285.528694978697\n",
      "mae: 13205.955280508415\n"
     ]
    }
   ],
   "source": [
    "# predict on training data with selected feature columns\n",
    "train_predictions = model.predict(X_train_fe[feature_columns])\n",
    "\n",
    "# compare errors between y_train and train_prediction\n",
    "rmse = sm_tools.rmse(y_train, train_predictions)\n",
    "mae = metrics.mean_absolute_error(y_train, train_predictions)\n",
    "\n",
    "# output results\n",
    "print(f'rmse: {rmse}')\n",
    "print(f'mae: {mae}')"
   ]
  },
  {
   "cell_type": "markdown",
   "metadata": {},
   "source": [
    "##### Test Model"
   ]
  },
  {
   "cell_type": "code",
   "execution_count": 199,
   "metadata": {},
   "outputs": [],
   "source": [
    "# add constast to X_test\n",
    "X_test_fe = feature_eng(X_test)"
   ]
  },
  {
   "cell_type": "code",
   "execution_count": 200,
   "metadata": {},
   "outputs": [
    {
     "name": "stdout",
     "output_type": "stream",
     "text": [
      "rmse: 18878.369685618127\n",
      "mae: 13921.636771645053\n"
     ]
    }
   ],
   "source": [
    "# predict on test data with selected feature columns\n",
    "test_predictions = model.predict(X_test_fe[feature_columns])\n",
    "\n",
    "# compare errors between y_test and test_prediction\n",
    "rmse = sm_tools.rmse(y_test, test_predictions)\n",
    "mae = metrics.mean_absolute_error(y_test, test_predictions)\n",
    "\n",
    "# output results\n",
    "print(f'rmse: {rmse}')\n",
    "print(f'mae: {mae}')"
   ]
  },
  {
   "cell_type": "markdown",
   "metadata": {},
   "source": [
    "#### Ridge and Lasso Regression Models (sklearn)"
   ]
  },
  {
   "cell_type": "markdown",
   "metadata": {},
   "source": [
    "##### Hyperparameter Tuning"
   ]
  },
  {
   "cell_type": "code",
   "execution_count": 223,
   "metadata": {},
   "outputs": [],
   "source": [
    "# feature columns to select for training\n",
    "feature_columns =  [\n",
    "                    'hourly_rate',\n",
    "                    'day_rate',\n",
    "                    #'min_salary',\n",
    "                    #'max_salary',\n",
    "                    #'permanent',\n",
    "                    'temporary',\n",
    "                    'remote_binary',\n",
    "                    'recruitment_consultancy',\n",
    "                    'city_leeds',\n",
    "                    'city_london',\n",
    "                    'city_manchester',\n",
    "                    'city_other cities',\n",
    "                    'title_simplified_data analyst',\n",
    "                    'title_simplified_data engineer',\n",
    "                    'title_simplified_data scientist',\n",
    "                    'title_simplified_machine learning engineer',\n",
    "                    'title_simplified_other',\n",
    "                    'seniority_other',\n",
    "                    'seniority_senior'\n",
    "                    ]"
   ]
  },
  {
   "cell_type": "code",
   "execution_count": 209,
   "metadata": {},
   "outputs": [
    {
     "name": "stdout",
     "output_type": "stream",
     "text": [
      "Best Lasso Alpha:\n",
      "   alpha        error\n",
      "0   0.01  13572.21331\n",
      "\n",
      "\n",
      "Best Ridge Alpha:\n",
      "   alpha         error\n",
      "0   0.01  13572.884061\n"
     ]
    }
   ],
   "source": [
    "# create a function to find the best alpha value for ridge and lasso models respectively\n",
    "def hyperparameter_tuning(model, alpha_range, X, y, cv=10):\n",
    "    \n",
    "    alpha_values = []\n",
    "    errors = []\n",
    "\n",
    "    for alpha in alpha_range:\n",
    "        model_instance = model(alpha=alpha)\n",
    "        scorer = metrics.make_scorer(metrics.mean_absolute_error)\n",
    "        error = np.mean(cross_val_score(model_instance, X, y, scoring=scorer, cv=cv))\n",
    "        alpha_values.append(alpha)\n",
    "        errors.append(error)\n",
    "\n",
    "    return alpha_values, errors\n",
    "\n",
    "# alpha range to iterate through\n",
    "alpha_range = np.arange(0.01, 1.0, 0.01)\n",
    "\n",
    "# perform hyperparameter tuning and cross-validation for lasso\n",
    "lasso_alpha_values, lasso_errors = hyperparameter_tuning(Lasso, alpha_range, X_train[feature_columns], y_train)\n",
    "\n",
    "# perform hyperparameter tuning and cross-validation for ridge\n",
    "ridge_alpha_values, ridge_errors = hyperparameter_tuning(Ridge, alpha_range, X_train[feature_columns], y_train)\n",
    "\n",
    "# create a data frame for each model mapping alpha values to corresponding errors\n",
    "df_lasso_err = pd.DataFrame({'alpha': lasso_alpha_values, 'error': lasso_errors})\n",
    "df_ridge_err = pd.DataFrame({'alpha': ridge_alpha_values, 'error': ridge_errors})\n",
    "\n",
    "# find the the alpha values with the smallest errors for each model\n",
    "best_alpha_lasso = df_lasso_err[df_lasso_err['error']==min(df_lasso_err.error)]\n",
    "best_alpha_ridge = df_ridge_err[df_ridge_err['error']==min(df_ridge_err.error)]\n",
    "\n",
    "# output results\n",
    "print('Best Lasso Alpha:')\n",
    "print(best_alpha_lasso)\n",
    "print('\\n')\n",
    "print('Best Ridge Alpha:')\n",
    "print(best_alpha_ridge)"
   ]
  },
  {
   "cell_type": "markdown",
   "metadata": {},
   "source": [
    "##### Train and Test Model"
   ]
  },
  {
   "cell_type": "code",
   "execution_count": 210,
   "metadata": {},
   "outputs": [
    {
     "name": "stdout",
     "output_type": "stream",
     "text": [
      "Train Data:\n",
      "Ridge MAE: 13572.884060582084\n",
      "Lasso MAE: 13572.213310216466\n",
      "\n",
      "\n",
      "Test Data:\n",
      "Ridge MAE: 13921.705934996418\n",
      "Lasso MAE: 13921.624636429133\n"
     ]
    }
   ],
   "source": [
    "# create ridge and lasso regression models\n",
    "ridge_model = Ridge(alpha=0.01) \n",
    "lasso_model = Lasso(alpha=0.01)\n",
    "\n",
    "# fit the models to the training data\n",
    "ridge_model.fit(X_train[feature_columns], y_train)\n",
    "lasso_model.fit(X_train[feature_columns], y_train)\n",
    "\n",
    "# cross-validation scores\n",
    "scorer = metrics.make_scorer(metrics.mean_absolute_error)\n",
    "ridge_train_score = np.mean(cross_val_score(ridge_model, X_train[feature_columns], y_train, scoring=scorer, cv=10))\n",
    "lasso_train_score = np.mean(cross_val_score(lasso_model, X_train[feature_columns], y_train, scoring=scorer, cv=10))\n",
    "\n",
    "# predict on test\n",
    "ridge_predictions = ridge_model.predict(X_test[feature_columns])\n",
    "lasso_predictions = lasso_model.predict(X_test[feature_columns])\n",
    "\n",
    "# calculate mae for ridge and lasso\n",
    "ridge_test_mae = metrics.mean_absolute_error(y_test, ridge_predictions)\n",
    "lasso_test_mae = metrics.mean_absolute_error(y_test, lasso_predictions)\n",
    "\n",
    "# output the results\n",
    "print('Train Data:')\n",
    "print(f\"Ridge MAE: {ridge_train_score}\")\n",
    "print(f\"Lasso MAE: {lasso_train_score}\")\n",
    "print('\\n')\n",
    "print('Test Data:')\n",
    "print(f\"Ridge MAE: {ridge_test_mae}\")\n",
    "print(f\"Lasso MAE: {lasso_test_mae}\")"
   ]
  },
  {
   "cell_type": "markdown",
   "metadata": {},
   "source": [
    "#### Random Forest and Decision Tree Models"
   ]
  },
  {
   "cell_type": "markdown",
   "metadata": {},
   "source": [
    "##### Hyperparameter Tuning"
   ]
  },
  {
   "cell_type": "code",
   "execution_count": 226,
   "metadata": {},
   "outputs": [],
   "source": [
    "# feature columns to select for training\n",
    "feature_columns =  [\n",
    "                    'hourly_rate',\n",
    "                    'day_rate',\n",
    "                    #'min_salary',\n",
    "                    #'max_salary',\n",
    "                    'permanent',\n",
    "                    #'temporary',\n",
    "                    'remote_binary',\n",
    "                    'recruitment_consultancy',\n",
    "                    'city_leeds',\n",
    "                    'city_london',\n",
    "                    'city_manchester',\n",
    "                    'city_other cities',\n",
    "                    'title_simplified_data analyst',\n",
    "                    'title_simplified_data engineer',\n",
    "                    'title_simplified_data scientist',\n",
    "                    'title_simplified_machine learning engineer',\n",
    "                    'title_simplified_other',\n",
    "                    'seniority_other',\n",
    "                    'seniority_senior'\n",
    "                    ]"
   ]
  },
  {
   "cell_type": "code",
   "execution_count": 205,
   "metadata": {},
   "outputs": [
    {
     "name": "stdout",
     "output_type": "stream",
     "text": [
      "DecisionTree: 14847.404261096362\n",
      "RandomForest: 14253.750068453533\n"
     ]
    }
   ],
   "source": [
    "# compare cross validation scores between decisiontree and randomforest models\n",
    "dt = DecisionTreeRegressor(random_state=21)\n",
    "rf = RandomForestRegressor(random_state=21)\n",
    "\n",
    "scorer = metrics.make_scorer(metrics.mean_absolute_error)\n",
    "dt_score = np.mean(cross_val_score(dt, X_train[feature_columns], y_train, scoring=scorer, cv=10))\n",
    "\n",
    "rf_score = np.mean(cross_val_score(rf, X_train[feature_columns], y_train, scoring=scorer, cv=10))\n",
    "\n",
    "\n",
    "print(f'DecisionTree: {dt_score}')\n",
    "\n",
    "print(f'RandomForest: {rf_score}')"
   ]
  },
  {
   "cell_type": "code",
   "execution_count": 206,
   "metadata": {},
   "outputs": [
    {
     "data": {
      "text/plain": [
       "{'max_depth': 20,\n",
       " 'min_samples_leaf': 1,\n",
       " 'min_samples_split': 2,\n",
       " 'n_estimators': 100}"
      ]
     },
     "execution_count": 206,
     "metadata": {},
     "output_type": "execute_result"
    }
   ],
   "source": [
    "# create the Random Forest regressor\n",
    "rf = RandomForestRegressor(random_state=21)\n",
    "\n",
    "# define the parameter grid to search over\n",
    "param_grid = {\n",
    "    'n_estimators': [50, 100, 200, 300],\n",
    "    'max_depth': [5 ,10, 20, 30],\n",
    "    'min_samples_split': [2, 5, 10],\n",
    "    'min_samples_leaf': [1, 2, 4]\n",
    "}\n",
    "\n",
    "# create scorer metric for gridsearchcv\n",
    "scorer = metrics.make_scorer(metrics.mean_absolute_error)\n",
    "\n",
    "# create gridsearchcv object\n",
    "gs = GridSearchCV(estimator=rf, param_grid=param_grid, scoring=scorer, cv=10, n_jobs=-1)\n",
    "\n",
    "# fit the grid search to data\n",
    "gs.fit(X_train[feature_columns], y_train)\n",
    "\n",
    "gs.best_params_"
   ]
  },
  {
   "cell_type": "markdown",
   "metadata": {},
   "source": [
    "##### Train and Test Model"
   ]
  },
  {
   "cell_type": "code",
   "execution_count": 216,
   "metadata": {},
   "outputs": [
    {
     "name": "stdout",
     "output_type": "stream",
     "text": [
      "Train Data:\n",
      "R2: 0.7806242244063012\n",
      "MAE: 14253.750068453533\n",
      "\n",
      "\n",
      "Test Data:\n",
      "R2: 0.71278436923419\n",
      "MAE: 14198.89591936066\n"
     ]
    }
   ],
   "source": [
    "# get the best estimator (model) with the tuned hyperparameters\n",
    "best_rf_model = gs.best_estimator_\n",
    "\n",
    "# get best score (mae)\n",
    "best_rf_score = gs.best_score_\n",
    "\n",
    "# make predictions on the test set\n",
    "rf_predicitons = best_rf_model.predict(X_test[feature_columns])\n",
    "\n",
    "rf_test_mae = metrics.mean_absolute_error(y_test, rf_predicitons)\n",
    "\n",
    "# compare r-squared scores between train and test data\n",
    "train_score = best_rf_model.score(X_train[feature_columns], y_train)\n",
    "test_score = best_rf_model.score(X_test[feature_columns], y_test)\n",
    "\n",
    "# output results\n",
    "print('Train Data:')\n",
    "print(f'R2: {train_score}')\n",
    "print(f'MAE: {best_rf_score}')\n",
    "print('\\n')\n",
    "print('Test Data:')\n",
    "print(f'R2: {test_score}')\n",
    "print(f'MAE: {rf_test_mae}')"
   ]
  },
  {
   "cell_type": "markdown",
   "metadata": {},
   "source": [
    "#### Combined Model"
   ]
  },
  {
   "cell_type": "code",
   "execution_count": 227,
   "metadata": {},
   "outputs": [
    {
     "name": "stdout",
     "output_type": "stream",
     "text": [
      "MAE: 13511.580841252511\n"
     ]
    }
   ],
   "source": [
    "combined_model = metrics.mean_absolute_error(y_test, (rf_predictions + lasso_predictions)/2)\n",
    "\n",
    "print(f'MAE: {combined_model}')"
   ]
  }
 ],
 "metadata": {
  "kernelspec": {
   "display_name": "base",
   "language": "python",
   "name": "python3"
  },
  "language_info": {
   "codemirror_mode": {
    "name": "ipython",
    "version": 3
   },
   "file_extension": ".py",
   "mimetype": "text/x-python",
   "name": "python",
   "nbconvert_exporter": "python",
   "pygments_lexer": "ipython3",
   "version": "3.10.9"
  },
  "orig_nbformat": 4
 },
 "nbformat": 4,
 "nbformat_minor": 2
}
