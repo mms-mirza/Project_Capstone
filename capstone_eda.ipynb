{
 "cells": [
  {
   "cell_type": "markdown",
   "metadata": {},
   "source": [
    "<p style=\"text-align:center;\">\n",
    "<img src=\"https://github.com/digital-futures-academy/DataScienceMasterResources/blob/main/Resources/datascience-notebook-header.png?raw=true\"\n",
    "     alt=\"DigitalFuturesLogo\"\n",
    "     style=\"float: center; margin-right: 10px;\" />\n",
    "</p>"
   ]
  },
  {
   "cell_type": "markdown",
   "metadata": {},
   "source": [
    "### EDA"
   ]
  },
  {
   "cell_type": "code",
   "execution_count": 2,
   "metadata": {},
   "outputs": [],
   "source": [
    "import pandas as pd\n",
    "import numpy as np\n",
    "import seaborn as sns\n",
    "import matplotlib.pyplot as plt"
   ]
  },
  {
   "cell_type": "markdown",
   "metadata": {},
   "source": [
    "### Clean DataFrame"
   ]
  },
  {
   "cell_type": "code",
   "execution_count": 3,
   "metadata": {},
   "outputs": [],
   "source": [
    "# read csv containing data scraped from reed.co.uk\n",
    "df = pd.read_csv('reed_data.csv')"
   ]
  },
  {
   "cell_type": "code",
   "execution_count": 4,
   "metadata": {},
   "outputs": [
    {
     "data": {
      "text/html": [
       "<div>\n",
       "<style scoped>\n",
       "    .dataframe tbody tr th:only-of-type {\n",
       "        vertical-align: middle;\n",
       "    }\n",
       "\n",
       "    .dataframe tbody tr th {\n",
       "        vertical-align: top;\n",
       "    }\n",
       "\n",
       "    .dataframe thead th {\n",
       "        text-align: right;\n",
       "    }\n",
       "</style>\n",
       "<table border=\"1\" class=\"dataframe\">\n",
       "  <thead>\n",
       "    <tr style=\"text-align: right;\">\n",
       "      <th></th>\n",
       "      <th>salary</th>\n",
       "      <th>title</th>\n",
       "      <th>company</th>\n",
       "      <th>location</th>\n",
       "      <th>contract</th>\n",
       "      <th>remote</th>\n",
       "    </tr>\n",
       "  </thead>\n",
       "  <tbody>\n",
       "    <tr>\n",
       "      <th>0</th>\n",
       "      <td>£30,000 per annum</td>\n",
       "      <td>Data Scientist</td>\n",
       "      <td>EG Group</td>\n",
       "      <td>Guide</td>\n",
       "      <td>Permanent, full-time</td>\n",
       "      <td>No</td>\n",
       "    </tr>\n",
       "    <tr>\n",
       "      <th>1</th>\n",
       "      <td>£50,000 - £65,000 per annum</td>\n",
       "      <td>Data Scientist</td>\n",
       "      <td>Adecco</td>\n",
       "      <td>Bristol</td>\n",
       "      <td>Permanent, full-time</td>\n",
       "      <td>No</td>\n",
       "    </tr>\n",
       "    <tr>\n",
       "      <th>2</th>\n",
       "      <td>£40,000 - £70,000 per annum</td>\n",
       "      <td>Data Scientist</td>\n",
       "      <td>IO Sphere</td>\n",
       "      <td>City of London</td>\n",
       "      <td>Permanent, full-time or part-time</td>\n",
       "      <td>No</td>\n",
       "    </tr>\n",
       "    <tr>\n",
       "      <th>3</th>\n",
       "      <td>£40,000 - £50,000 per annum</td>\n",
       "      <td>Data Scientist</td>\n",
       "      <td>ADLIB</td>\n",
       "      <td>Bath</td>\n",
       "      <td>Permanent, full-time</td>\n",
       "      <td>No</td>\n",
       "    </tr>\n",
       "    <tr>\n",
       "      <th>4</th>\n",
       "      <td>£450 - £500 per day</td>\n",
       "      <td>Data Scientist</td>\n",
       "      <td>Pontoon</td>\n",
       "      <td>Crewe</td>\n",
       "      <td>Contract, full-time</td>\n",
       "      <td>No</td>\n",
       "    </tr>\n",
       "  </tbody>\n",
       "</table>\n",
       "</div>"
      ],
      "text/plain": [
       "                        salary           title    company        location  \\\n",
       "0            £30,000 per annum  Data Scientist   EG Group           Guide   \n",
       "1  £50,000 - £65,000 per annum  Data Scientist    Adecco          Bristol   \n",
       "2  £40,000 - £70,000 per annum  Data Scientist  IO Sphere  City of London   \n",
       "3  £40,000 - £50,000 per annum  Data Scientist      ADLIB            Bath   \n",
       "4          £450 - £500 per day  Data Scientist    Pontoon           Crewe   \n",
       "\n",
       "                            contract remote  \n",
       "0               Permanent, full-time     No  \n",
       "1               Permanent, full-time     No  \n",
       "2  Permanent, full-time or part-time     No  \n",
       "3               Permanent, full-time     No  \n",
       "4                Contract, full-time     No  "
      ]
     },
     "execution_count": 4,
     "metadata": {},
     "output_type": "execute_result"
    }
   ],
   "source": [
    "# check top rows\n",
    "df.head()"
   ]
  },
  {
   "cell_type": "code",
   "execution_count": 5,
   "metadata": {},
   "outputs": [
    {
     "data": {
      "text/html": [
       "<div>\n",
       "<style scoped>\n",
       "    .dataframe tbody tr th:only-of-type {\n",
       "        vertical-align: middle;\n",
       "    }\n",
       "\n",
       "    .dataframe tbody tr th {\n",
       "        vertical-align: top;\n",
       "    }\n",
       "\n",
       "    .dataframe thead th {\n",
       "        text-align: right;\n",
       "    }\n",
       "</style>\n",
       "<table border=\"1\" class=\"dataframe\">\n",
       "  <thead>\n",
       "    <tr style=\"text-align: right;\">\n",
       "      <th></th>\n",
       "      <th>salary</th>\n",
       "      <th>title</th>\n",
       "      <th>company</th>\n",
       "      <th>location</th>\n",
       "      <th>contract</th>\n",
       "      <th>remote</th>\n",
       "    </tr>\n",
       "  </thead>\n",
       "  <tbody>\n",
       "    <tr>\n",
       "      <th>7568</th>\n",
       "      <td>£60,000 - £65,000 per annum</td>\n",
       "      <td>Fullstack Developer</td>\n",
       "      <td>SR2</td>\n",
       "      <td>Cambridgeshire</td>\n",
       "      <td>Permanent, full-time</td>\n",
       "      <td>Work from home</td>\n",
       "    </tr>\n",
       "    <tr>\n",
       "      <th>7569</th>\n",
       "      <td>£50,000 - £60,000 per annum</td>\n",
       "      <td>Health, Safety &amp; Environment Manager - Food</td>\n",
       "      <td>SRG</td>\n",
       "      <td>Chipping Campden</td>\n",
       "      <td>Permanent, full-time</td>\n",
       "      <td>No</td>\n",
       "    </tr>\n",
       "    <tr>\n",
       "      <th>7570</th>\n",
       "      <td>£25,000 - £28,000 per annum</td>\n",
       "      <td>Site Chemist</td>\n",
       "      <td>Mandeville Recruitment Group</td>\n",
       "      <td>Walsall</td>\n",
       "      <td>Permanent, full-time</td>\n",
       "      <td>No</td>\n",
       "    </tr>\n",
       "    <tr>\n",
       "      <th>7571</th>\n",
       "      <td>£25,000 - £28,000 per annum</td>\n",
       "      <td>Chemistry Graduate - Site Chemist</td>\n",
       "      <td>Mandeville Recruitment Group</td>\n",
       "      <td>Stoke-on-Trent</td>\n",
       "      <td>Permanent, full-time</td>\n",
       "      <td>No</td>\n",
       "    </tr>\n",
       "    <tr>\n",
       "      <th>7572</th>\n",
       "      <td>£25 - £28 per hour</td>\n",
       "      <td>Project Manager</td>\n",
       "      <td>Kelly Services</td>\n",
       "      <td>Reading</td>\n",
       "      <td>Contract, full-time</td>\n",
       "      <td>No</td>\n",
       "    </tr>\n",
       "  </tbody>\n",
       "</table>\n",
       "</div>"
      ],
      "text/plain": [
       "                           salary  \\\n",
       "7568  £60,000 - £65,000 per annum   \n",
       "7569  £50,000 - £60,000 per annum   \n",
       "7570  £25,000 - £28,000 per annum   \n",
       "7571  £25,000 - £28,000 per annum   \n",
       "7572           £25 - £28 per hour   \n",
       "\n",
       "                                            title  \\\n",
       "7568                          Fullstack Developer   \n",
       "7569  Health, Safety & Environment Manager - Food   \n",
       "7570                                 Site Chemist   \n",
       "7571            Chemistry Graduate - Site Chemist   \n",
       "7572                              Project Manager   \n",
       "\n",
       "                           company          location              contract  \\\n",
       "7568                           SR2    Cambridgeshire  Permanent, full-time   \n",
       "7569                           SRG  Chipping Campden  Permanent, full-time   \n",
       "7570  Mandeville Recruitment Group           Walsall  Permanent, full-time   \n",
       "7571  Mandeville Recruitment Group    Stoke-on-Trent  Permanent, full-time   \n",
       "7572                Kelly Services           Reading   Contract, full-time   \n",
       "\n",
       "              remote  \n",
       "7568  Work from home  \n",
       "7569              No  \n",
       "7570              No  \n",
       "7571              No  \n",
       "7572              No  "
      ]
     },
     "execution_count": 5,
     "metadata": {},
     "output_type": "execute_result"
    }
   ],
   "source": [
    "# check bottom rows\n",
    "df.tail()"
   ]
  },
  {
   "cell_type": "code",
   "execution_count": 6,
   "metadata": {},
   "outputs": [
    {
     "data": {
      "text/plain": [
       "(7573, 6)"
      ]
     },
     "execution_count": 6,
     "metadata": {},
     "output_type": "execute_result"
    }
   ],
   "source": [
    "# check dimensions\n",
    "df.shape"
   ]
  },
  {
   "cell_type": "code",
   "execution_count": 7,
   "metadata": {},
   "outputs": [
    {
     "data": {
      "text/plain": [
       "salary      object\n",
       "title       object\n",
       "company     object\n",
       "location    object\n",
       "contract    object\n",
       "remote      object\n",
       "dtype: object"
      ]
     },
     "execution_count": 7,
     "metadata": {},
     "output_type": "execute_result"
    }
   ],
   "source": [
    "# check data types\n",
    "df.dtypes"
   ]
  },
  {
   "cell_type": "code",
   "execution_count": 8,
   "metadata": {},
   "outputs": [
    {
     "data": {
      "text/plain": [
       "salary      0\n",
       "title       0\n",
       "company     0\n",
       "location    0\n",
       "contract    0\n",
       "remote      0\n",
       "dtype: int64"
      ]
     },
     "execution_count": 8,
     "metadata": {},
     "output_type": "execute_result"
    }
   ],
   "source": [
    "# check for null values\n",
    "df.isnull().sum()"
   ]
  },
  {
   "cell_type": "markdown",
   "metadata": {},
   "source": [
    "#### Remove duplicate job posts"
   ]
  },
  {
   "cell_type": "code",
   "execution_count": 9,
   "metadata": {},
   "outputs": [
    {
     "data": {
      "text/html": [
       "<div>\n",
       "<style scoped>\n",
       "    .dataframe tbody tr th:only-of-type {\n",
       "        vertical-align: middle;\n",
       "    }\n",
       "\n",
       "    .dataframe tbody tr th {\n",
       "        vertical-align: top;\n",
       "    }\n",
       "\n",
       "    .dataframe thead th {\n",
       "        text-align: right;\n",
       "    }\n",
       "</style>\n",
       "<table border=\"1\" class=\"dataframe\">\n",
       "  <thead>\n",
       "    <tr style=\"text-align: right;\">\n",
       "      <th></th>\n",
       "      <th>salary</th>\n",
       "      <th>title</th>\n",
       "      <th>company</th>\n",
       "      <th>location</th>\n",
       "      <th>contract</th>\n",
       "      <th>remote</th>\n",
       "    </tr>\n",
       "  </thead>\n",
       "  <tbody>\n",
       "    <tr>\n",
       "      <th>19</th>\n",
       "      <td>£60,000 - £70,000 per annum</td>\n",
       "      <td>Data Scientist</td>\n",
       "      <td>Harnham - Data &amp; Analytics Recruitment</td>\n",
       "      <td>Manchester</td>\n",
       "      <td>Permanent, full-time</td>\n",
       "      <td>No</td>\n",
       "    </tr>\n",
       "    <tr>\n",
       "      <th>26</th>\n",
       "      <td>£30,000 per annum</td>\n",
       "      <td>Data Scientist</td>\n",
       "      <td>EG Group</td>\n",
       "      <td>Guide</td>\n",
       "      <td>Permanent, full-time</td>\n",
       "      <td>No</td>\n",
       "    </tr>\n",
       "    <tr>\n",
       "      <th>27</th>\n",
       "      <td>£50,000 - £65,000 per annum</td>\n",
       "      <td>Data Scientist</td>\n",
       "      <td>Adecco</td>\n",
       "      <td>Bristol</td>\n",
       "      <td>Permanent, full-time</td>\n",
       "      <td>No</td>\n",
       "    </tr>\n",
       "    <tr>\n",
       "      <th>28</th>\n",
       "      <td>£40,000 - £50,000 per annum</td>\n",
       "      <td>Data Scientist</td>\n",
       "      <td>ADLIB</td>\n",
       "      <td>Bath</td>\n",
       "      <td>Permanent, full-time</td>\n",
       "      <td>No</td>\n",
       "    </tr>\n",
       "    <tr>\n",
       "      <th>29</th>\n",
       "      <td>£40,000 - £70,000 per annum</td>\n",
       "      <td>Data Scientist</td>\n",
       "      <td>IO Sphere</td>\n",
       "      <td>City of London</td>\n",
       "      <td>Permanent, full-time or part-time</td>\n",
       "      <td>No</td>\n",
       "    </tr>\n",
       "    <tr>\n",
       "      <th>...</th>\n",
       "      <td>...</td>\n",
       "      <td>...</td>\n",
       "      <td>...</td>\n",
       "      <td>...</td>\n",
       "      <td>...</td>\n",
       "      <td>...</td>\n",
       "    </tr>\n",
       "    <tr>\n",
       "      <th>7562</th>\n",
       "      <td>£38,000 - £45,000 per annum</td>\n",
       "      <td>Research Scientist - Biomarkers</td>\n",
       "      <td>VRS Recruitment</td>\n",
       "      <td>Slough</td>\n",
       "      <td>Permanent, full-time</td>\n",
       "      <td>No</td>\n",
       "    </tr>\n",
       "    <tr>\n",
       "      <th>7563</th>\n",
       "      <td>£19,620 - £27,250 per annum</td>\n",
       "      <td>Scientist</td>\n",
       "      <td>Broughton Group</td>\n",
       "      <td>Skipton</td>\n",
       "      <td>Permanent, full-time</td>\n",
       "      <td>No</td>\n",
       "    </tr>\n",
       "    <tr>\n",
       "      <th>7566</th>\n",
       "      <td>£23,000 - £28,000 per annum, inc benefits</td>\n",
       "      <td>Technical Surveyor</td>\n",
       "      <td>Reed</td>\n",
       "      <td>Great Yarmouth</td>\n",
       "      <td>Permanent, full-time</td>\n",
       "      <td>No</td>\n",
       "    </tr>\n",
       "    <tr>\n",
       "      <th>7567</th>\n",
       "      <td>£1 - £19.38 per hour</td>\n",
       "      <td>Scientist - Upstream Processing</td>\n",
       "      <td>CK GROUP</td>\n",
       "      <td>Slough</td>\n",
       "      <td>Contract, full-time</td>\n",
       "      <td>No</td>\n",
       "    </tr>\n",
       "    <tr>\n",
       "      <th>7568</th>\n",
       "      <td>£60,000 - £65,000 per annum</td>\n",
       "      <td>Fullstack Developer</td>\n",
       "      <td>SR2</td>\n",
       "      <td>Cambridgeshire</td>\n",
       "      <td>Permanent, full-time</td>\n",
       "      <td>Work from home</td>\n",
       "    </tr>\n",
       "  </tbody>\n",
       "</table>\n",
       "<p>3130 rows × 6 columns</p>\n",
       "</div>"
      ],
      "text/plain": [
       "                                         salary  \\\n",
       "19                  £60,000 - £70,000 per annum   \n",
       "26                            £30,000 per annum   \n",
       "27                  £50,000 - £65,000 per annum   \n",
       "28                  £40,000 - £50,000 per annum   \n",
       "29                  £40,000 - £70,000 per annum   \n",
       "...                                         ...   \n",
       "7562                £38,000 - £45,000 per annum   \n",
       "7563                £19,620 - £27,250 per annum   \n",
       "7566  £23,000 - £28,000 per annum, inc benefits   \n",
       "7567                       £1 - £19.38 per hour   \n",
       "7568                £60,000 - £65,000 per annum   \n",
       "\n",
       "                                title                                 company  \\\n",
       "19                     Data Scientist  Harnham - Data & Analytics Recruitment   \n",
       "26                     Data Scientist                                EG Group   \n",
       "27                     Data Scientist                                 Adecco    \n",
       "28                     Data Scientist                                   ADLIB   \n",
       "29                     Data Scientist                               IO Sphere   \n",
       "...                               ...                                     ...   \n",
       "7562  Research Scientist - Biomarkers                         VRS Recruitment   \n",
       "7563                        Scientist                         Broughton Group   \n",
       "7566               Technical Surveyor                                    Reed   \n",
       "7567  Scientist - Upstream Processing                                CK GROUP   \n",
       "7568              Fullstack Developer                                     SR2   \n",
       "\n",
       "            location                           contract          remote  \n",
       "19        Manchester               Permanent, full-time              No  \n",
       "26             Guide               Permanent, full-time              No  \n",
       "27           Bristol               Permanent, full-time              No  \n",
       "28              Bath               Permanent, full-time              No  \n",
       "29    City of London  Permanent, full-time or part-time              No  \n",
       "...              ...                                ...             ...  \n",
       "7562          Slough               Permanent, full-time              No  \n",
       "7563         Skipton               Permanent, full-time              No  \n",
       "7566  Great Yarmouth               Permanent, full-time              No  \n",
       "7567          Slough                Contract, full-time              No  \n",
       "7568  Cambridgeshire               Permanent, full-time  Work from home  \n",
       "\n",
       "[3130 rows x 6 columns]"
      ]
     },
     "execution_count": 9,
     "metadata": {},
     "output_type": "execute_result"
    }
   ],
   "source": [
    "# check how many duplicated job posts in df\n",
    "df[df.duplicated()]"
   ]
  },
  {
   "cell_type": "code",
   "execution_count": 10,
   "metadata": {},
   "outputs": [],
   "source": [
    "# drop duplicates\n",
    "df.drop_duplicates(inplace=True)"
   ]
  },
  {
   "cell_type": "code",
   "execution_count": 11,
   "metadata": {},
   "outputs": [
    {
     "data": {
      "text/plain": [
       "(4443, 6)"
      ]
     },
     "execution_count": 11,
     "metadata": {},
     "output_type": "execute_result"
    }
   ],
   "source": [
    "# check df dimesions correspond with rows dropped\n",
    "df.shape"
   ]
  },
  {
   "cell_type": "markdown",
   "metadata": {},
   "source": [
    "#### Inspect columns"
   ]
  },
  {
   "cell_type": "code",
   "execution_count": 12,
   "metadata": {},
   "outputs": [
    {
     "data": {
      "text/html": [
       "<div>\n",
       "<style scoped>\n",
       "    .dataframe tbody tr th:only-of-type {\n",
       "        vertical-align: middle;\n",
       "    }\n",
       "\n",
       "    .dataframe tbody tr th {\n",
       "        vertical-align: top;\n",
       "    }\n",
       "\n",
       "    .dataframe thead th {\n",
       "        text-align: right;\n",
       "    }\n",
       "</style>\n",
       "<table border=\"1\" class=\"dataframe\">\n",
       "  <thead>\n",
       "    <tr style=\"text-align: right;\">\n",
       "      <th></th>\n",
       "      <th>salary</th>\n",
       "      <th>title</th>\n",
       "      <th>company</th>\n",
       "      <th>location</th>\n",
       "      <th>contract</th>\n",
       "      <th>remote</th>\n",
       "    </tr>\n",
       "  </thead>\n",
       "  <tbody>\n",
       "    <tr>\n",
       "      <th>0</th>\n",
       "      <td>£30,000 per annum</td>\n",
       "      <td>Data Scientist</td>\n",
       "      <td>EG Group</td>\n",
       "      <td>Guide</td>\n",
       "      <td>Permanent, full-time</td>\n",
       "      <td>No</td>\n",
       "    </tr>\n",
       "    <tr>\n",
       "      <th>1</th>\n",
       "      <td>£50,000 - £65,000 per annum</td>\n",
       "      <td>Data Scientist</td>\n",
       "      <td>Adecco</td>\n",
       "      <td>Bristol</td>\n",
       "      <td>Permanent, full-time</td>\n",
       "      <td>No</td>\n",
       "    </tr>\n",
       "    <tr>\n",
       "      <th>2</th>\n",
       "      <td>£40,000 - £70,000 per annum</td>\n",
       "      <td>Data Scientist</td>\n",
       "      <td>IO Sphere</td>\n",
       "      <td>City of London</td>\n",
       "      <td>Permanent, full-time or part-time</td>\n",
       "      <td>No</td>\n",
       "    </tr>\n",
       "    <tr>\n",
       "      <th>3</th>\n",
       "      <td>£40,000 - £50,000 per annum</td>\n",
       "      <td>Data Scientist</td>\n",
       "      <td>ADLIB</td>\n",
       "      <td>Bath</td>\n",
       "      <td>Permanent, full-time</td>\n",
       "      <td>No</td>\n",
       "    </tr>\n",
       "    <tr>\n",
       "      <th>4</th>\n",
       "      <td>£450 - £500 per day</td>\n",
       "      <td>Data Scientist</td>\n",
       "      <td>Pontoon</td>\n",
       "      <td>Crewe</td>\n",
       "      <td>Contract, full-time</td>\n",
       "      <td>No</td>\n",
       "    </tr>\n",
       "  </tbody>\n",
       "</table>\n",
       "</div>"
      ],
      "text/plain": [
       "                        salary           title    company        location  \\\n",
       "0            £30,000 per annum  Data Scientist   EG Group           Guide   \n",
       "1  £50,000 - £65,000 per annum  Data Scientist    Adecco          Bristol   \n",
       "2  £40,000 - £70,000 per annum  Data Scientist  IO Sphere  City of London   \n",
       "3  £40,000 - £50,000 per annum  Data Scientist      ADLIB            Bath   \n",
       "4          £450 - £500 per day  Data Scientist    Pontoon           Crewe   \n",
       "\n",
       "                            contract remote  \n",
       "0               Permanent, full-time     No  \n",
       "1               Permanent, full-time     No  \n",
       "2  Permanent, full-time or part-time     No  \n",
       "3               Permanent, full-time     No  \n",
       "4                Contract, full-time     No  "
      ]
     },
     "execution_count": 12,
     "metadata": {},
     "output_type": "execute_result"
    }
   ],
   "source": [
    "# check top of df\n",
    "df.head()"
   ]
  },
  {
   "cell_type": "code",
   "execution_count": 13,
   "metadata": {},
   "outputs": [
    {
     "data": {
      "text/plain": [
       "salary      1234\n",
       "title       2871\n",
       "company     1060\n",
       "location     696\n",
       "contract       9\n",
       "remote         2\n",
       "dtype: int64"
      ]
     },
     "execution_count": 13,
     "metadata": {},
     "output_type": "execute_result"
    }
   ],
   "source": [
    "# check number of unique values in each column\n",
    "df.nunique()"
   ]
  },
  {
   "cell_type": "code",
   "execution_count": 14,
   "metadata": {},
   "outputs": [],
   "source": [
    "# iterate through columns stripping all white space and converting to lower-case\n",
    "for column in df:\n",
    "    df[column] = df[column].str.strip().str.lower()"
   ]
  },
  {
   "cell_type": "code",
   "execution_count": 15,
   "metadata": {},
   "outputs": [
    {
     "data": {
      "text/plain": [
       "salary      1234\n",
       "title       2796\n",
       "company     1060\n",
       "location     696\n",
       "contract       9\n",
       "remote         2\n",
       "dtype: int64"
      ]
     },
     "execution_count": 15,
     "metadata": {},
     "output_type": "execute_result"
    }
   ],
   "source": [
    "# observe any changes\n",
    "df.nunique()"
   ]
  },
  {
   "cell_type": "code",
   "execution_count": 16,
   "metadata": {},
   "outputs": [
    {
     "data": {
      "text/html": [
       "<div>\n",
       "<style scoped>\n",
       "    .dataframe tbody tr th:only-of-type {\n",
       "        vertical-align: middle;\n",
       "    }\n",
       "\n",
       "    .dataframe tbody tr th {\n",
       "        vertical-align: top;\n",
       "    }\n",
       "\n",
       "    .dataframe thead th {\n",
       "        text-align: right;\n",
       "    }\n",
       "</style>\n",
       "<table border=\"1\" class=\"dataframe\">\n",
       "  <thead>\n",
       "    <tr style=\"text-align: right;\">\n",
       "      <th></th>\n",
       "      <th>salary</th>\n",
       "      <th>title</th>\n",
       "      <th>company</th>\n",
       "      <th>location</th>\n",
       "      <th>contract</th>\n",
       "      <th>remote</th>\n",
       "    </tr>\n",
       "  </thead>\n",
       "  <tbody>\n",
       "    <tr>\n",
       "      <th>0</th>\n",
       "      <td>£30,000 per annum</td>\n",
       "      <td>data scientist</td>\n",
       "      <td>eg group</td>\n",
       "      <td>guide</td>\n",
       "      <td>permanent, full-time</td>\n",
       "      <td>no</td>\n",
       "    </tr>\n",
       "    <tr>\n",
       "      <th>1</th>\n",
       "      <td>£50,000 - £65,000 per annum</td>\n",
       "      <td>data scientist</td>\n",
       "      <td>adecco</td>\n",
       "      <td>bristol</td>\n",
       "      <td>permanent, full-time</td>\n",
       "      <td>no</td>\n",
       "    </tr>\n",
       "    <tr>\n",
       "      <th>2</th>\n",
       "      <td>£40,000 - £70,000 per annum</td>\n",
       "      <td>data scientist</td>\n",
       "      <td>io sphere</td>\n",
       "      <td>city of london</td>\n",
       "      <td>permanent, full-time or part-time</td>\n",
       "      <td>no</td>\n",
       "    </tr>\n",
       "    <tr>\n",
       "      <th>3</th>\n",
       "      <td>£40,000 - £50,000 per annum</td>\n",
       "      <td>data scientist</td>\n",
       "      <td>adlib</td>\n",
       "      <td>bath</td>\n",
       "      <td>permanent, full-time</td>\n",
       "      <td>no</td>\n",
       "    </tr>\n",
       "    <tr>\n",
       "      <th>4</th>\n",
       "      <td>£450 - £500 per day</td>\n",
       "      <td>data scientist</td>\n",
       "      <td>pontoon</td>\n",
       "      <td>crewe</td>\n",
       "      <td>contract, full-time</td>\n",
       "      <td>no</td>\n",
       "    </tr>\n",
       "  </tbody>\n",
       "</table>\n",
       "</div>"
      ],
      "text/plain": [
       "                        salary           title    company        location  \\\n",
       "0            £30,000 per annum  data scientist   eg group           guide   \n",
       "1  £50,000 - £65,000 per annum  data scientist     adecco         bristol   \n",
       "2  £40,000 - £70,000 per annum  data scientist  io sphere  city of london   \n",
       "3  £40,000 - £50,000 per annum  data scientist      adlib            bath   \n",
       "4          £450 - £500 per day  data scientist    pontoon           crewe   \n",
       "\n",
       "                            contract remote  \n",
       "0               permanent, full-time     no  \n",
       "1               permanent, full-time     no  \n",
       "2  permanent, full-time or part-time     no  \n",
       "3               permanent, full-time     no  \n",
       "4                contract, full-time     no  "
      ]
     },
     "execution_count": 16,
     "metadata": {},
     "output_type": "execute_result"
    }
   ],
   "source": [
    "# check top of df\n",
    "df.head()"
   ]
  },
  {
   "cell_type": "code",
   "execution_count": 17,
   "metadata": {},
   "outputs": [],
   "source": [
    "# filter out job titles that arent relevant to data science\n",
    "df = df[df['title'].str.contains('data analyst|data scientist|data engineer|data science|machine learning|data specialist|business analyst|business intelligence|power bi analyst|senior analyst|sql analyst|quantitative|data manager')]"
   ]
  },
  {
   "cell_type": "code",
   "execution_count": 18,
   "metadata": {},
   "outputs": [
    {
     "data": {
      "text/plain": [
       "(837, 6)"
      ]
     },
     "execution_count": 18,
     "metadata": {},
     "output_type": "execute_result"
    }
   ],
   "source": [
    "df.shape"
   ]
  },
  {
   "cell_type": "code",
   "execution_count": 19,
   "metadata": {},
   "outputs": [
    {
     "data": {
      "text/plain": [
       "salary      320\n",
       "title       397\n",
       "company     279\n",
       "location    200\n",
       "contract      6\n",
       "remote        2\n",
       "dtype: int64"
      ]
     },
     "execution_count": 19,
     "metadata": {},
     "output_type": "execute_result"
    }
   ],
   "source": [
    "df.nunique()"
   ]
  },
  {
   "cell_type": "markdown",
   "metadata": {},
   "source": [
    "##### Salary column clean-up"
   ]
  },
  {
   "cell_type": "code",
   "execution_count": 20,
   "metadata": {},
   "outputs": [
    {
     "data": {
      "text/html": [
       "<div>\n",
       "<style scoped>\n",
       "    .dataframe tbody tr th:only-of-type {\n",
       "        vertical-align: middle;\n",
       "    }\n",
       "\n",
       "    .dataframe tbody tr th {\n",
       "        vertical-align: top;\n",
       "    }\n",
       "\n",
       "    .dataframe thead th {\n",
       "        text-align: right;\n",
       "    }\n",
       "</style>\n",
       "<table border=\"1\" class=\"dataframe\">\n",
       "  <thead>\n",
       "    <tr style=\"text-align: right;\">\n",
       "      <th></th>\n",
       "      <th>salary</th>\n",
       "      <th>title</th>\n",
       "      <th>company</th>\n",
       "      <th>location</th>\n",
       "      <th>contract</th>\n",
       "      <th>remote</th>\n",
       "    </tr>\n",
       "  </thead>\n",
       "  <tbody>\n",
       "    <tr>\n",
       "      <th>4</th>\n",
       "      <td>£450 - £500 per day</td>\n",
       "      <td>data scientist</td>\n",
       "      <td>pontoon</td>\n",
       "      <td>crewe</td>\n",
       "      <td>contract, full-time</td>\n",
       "      <td>no</td>\n",
       "    </tr>\n",
       "    <tr>\n",
       "      <th>5</th>\n",
       "      <td>£700 - £800 per day</td>\n",
       "      <td>data scientist</td>\n",
       "      <td>guidant global</td>\n",
       "      <td>cheltenham</td>\n",
       "      <td>contract, full-time</td>\n",
       "      <td>no</td>\n",
       "    </tr>\n",
       "    <tr>\n",
       "      <th>57</th>\n",
       "      <td>£350 - £400 per day</td>\n",
       "      <td>data scientist</td>\n",
       "      <td>advanced resource managers limited</td>\n",
       "      <td>london</td>\n",
       "      <td>contract, full-time</td>\n",
       "      <td>work from home</td>\n",
       "    </tr>\n",
       "    <tr>\n",
       "      <th>60</th>\n",
       "      <td>£650 - £700 per day</td>\n",
       "      <td>data scientist</td>\n",
       "      <td>experis ltd</td>\n",
       "      <td>london</td>\n",
       "      <td>contract, full-time</td>\n",
       "      <td>work from home</td>\n",
       "    </tr>\n",
       "    <tr>\n",
       "      <th>76</th>\n",
       "      <td>£250 - £300 per day</td>\n",
       "      <td>junior data scientist</td>\n",
       "      <td>harnham - data &amp; analytics recruitment</td>\n",
       "      <td>london</td>\n",
       "      <td>contract, full-time</td>\n",
       "      <td>no</td>\n",
       "    </tr>\n",
       "  </tbody>\n",
       "</table>\n",
       "</div>"
      ],
      "text/plain": [
       "                 salary                  title  \\\n",
       "4   £450 - £500 per day         data scientist   \n",
       "5   £700 - £800 per day         data scientist   \n",
       "57  £350 - £400 per day         data scientist   \n",
       "60  £650 - £700 per day         data scientist   \n",
       "76  £250 - £300 per day  junior data scientist   \n",
       "\n",
       "                                   company    location             contract  \\\n",
       "4                                  pontoon       crewe  contract, full-time   \n",
       "5                           guidant global  cheltenham  contract, full-time   \n",
       "57      advanced resource managers limited      london  contract, full-time   \n",
       "60                             experis ltd      london  contract, full-time   \n",
       "76  harnham - data & analytics recruitment      london  contract, full-time   \n",
       "\n",
       "            remote  \n",
       "4               no  \n",
       "5               no  \n",
       "57  work from home  \n",
       "60  work from home  \n",
       "76              no  "
      ]
     },
     "execution_count": 20,
     "metadata": {},
     "output_type": "execute_result"
    }
   ],
   "source": [
    "df[~df['salary'].str.contains('per annum')].head()"
   ]
  }
 ],
 "metadata": {
  "kernelspec": {
   "display_name": "base",
   "language": "python",
   "name": "python3"
  },
  "language_info": {
   "codemirror_mode": {
    "name": "ipython",
    "version": 3
   },
   "file_extension": ".py",
   "mimetype": "text/x-python",
   "name": "python",
   "nbconvert_exporter": "python",
   "pygments_lexer": "ipython3",
   "version": "3.10.9"
  },
  "orig_nbformat": 4
 },
 "nbformat": 4,
 "nbformat_minor": 2
}
