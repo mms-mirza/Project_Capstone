{
 "cells": [
  {
   "cell_type": "markdown",
   "metadata": {},
   "source": [
    "<p style=\"text-align:center;\">\n",
    "<img src=\"https://github.com/digital-futures-academy/DataScienceMasterResources/blob/main/Resources/datascience-notebook-header.png?raw=true\"\n",
    "     alt=\"DigitalFuturesLogo\"\n",
    "     style=\"float: center; margin-right: 10px;\" />\n",
    "</p>"
   ]
  },
  {
   "cell_type": "markdown",
   "metadata": {},
   "source": [
    "### Extract Data Science job search data from reed.co.uk"
   ]
  },
  {
   "cell_type": "code",
   "execution_count": 2,
   "metadata": {},
   "outputs": [],
   "source": [
    "import pandas as pd\n",
    "import requests\n",
    "from bs4 import BeautifulSoup"
   ]
  },
  {
   "cell_type": "markdown",
   "metadata": {},
   "source": [
    "### Reed Web Scraper"
   ]
  },
  {
   "cell_type": "code",
   "execution_count": 15,
   "metadata": {},
   "outputs": [],
   "source": [
    "# webscraper function for reed.co.uk\n",
    "def reed_webscraper(url, no_of_pages):\n",
    "\n",
    "    # store data for data frame\n",
    "    job_title = []\n",
    "    company = []\n",
    "    salary = []\n",
    "    location = []\n",
    "    job_type = []\n",
    "    remote = []\n",
    "\n",
    "    # iterate through every webpage\n",
    "    for page in range(no_of_pages):\n",
    "        \n",
    "        # get data from webpage and create BeautifulSoup object\n",
    "        response = requests.get(url, params={'pageno': page})\n",
    "        soup = BeautifulSoup(response.text, 'html.parser')\n",
    "\n",
    "        # find all the tags containing info for each job post\n",
    "        job_cards = soup('article')\n",
    "\n",
    "        # iterate through each job post on current page\n",
    "        for job in job_cards:\n",
    "            \n",
    "            # extract job title from html\n",
    "            job_title.append(job.h2.text)\n",
    "\n",
    "            # extract company name from html\n",
    "            company.append(job.find('a', class_='gtmJobListingPostedBy').text)\n",
    "\n",
    "            # extract salary, location, contract type, and remote data from html\n",
    "            if len(job.ul) == 3:\n",
    "                for i, j in enumerate(job.ul):\n",
    "                    if i == 0:\n",
    "                        salary.append(j.text)\n",
    "                    elif i == 1:\n",
    "                        location.append(j.text)\n",
    "                    else:\n",
    "                        job_type.append(j.text)\n",
    "                        remote.append('No')\n",
    "            else:\n",
    "                for i, j in enumerate(job.ul):\n",
    "                    if i == 0:\n",
    "                        salary.append(j.text)\n",
    "                    elif i == 1:\n",
    "                        location.append(j.text)\n",
    "                    elif i == 2:\n",
    "                        job_type.append(j.text)\n",
    "                    else:\n",
    "                        remote.append(j.text)\n",
    "\n",
    "    # create and return df                    \n",
    "    df = pd.DataFrame({'salary': salary, 'title': job_title, 'company': company, 'location': location, 'contract': job_type, 'remote': remote})\n",
    "\n",
    "    return df"
   ]
  },
  {
   "cell_type": "markdown",
   "metadata": {},
   "source": [
    "### Create DataFrames"
   ]
  },
  {
   "cell_type": "code",
   "execution_count": 16,
   "metadata": {},
   "outputs": [],
   "source": [
    "# scrape data scientist job data\n",
    "url = 'https://www.reed.co.uk/jobs/data-scientist-jobs-in-united-kingdom?hideTrainingJobs=true&excludeSalaryDescriptions=16%2C32%2C64'\n",
    "data_scientist_df = reed_webscraper(url, 14)"
   ]
  },
  {
   "cell_type": "code",
   "execution_count": 18,
   "metadata": {},
   "outputs": [
    {
     "data": {
      "text/plain": [
       "(364, 6)"
      ]
     },
     "execution_count": 18,
     "metadata": {},
     "output_type": "execute_result"
    }
   ],
   "source": [
    "data_scientist_df.shape"
   ]
  },
  {
   "cell_type": "code",
   "execution_count": 19,
   "metadata": {},
   "outputs": [],
   "source": [
    "# scrape data analyst job data\n",
    "url = 'https://www.reed.co.uk/jobs/data-analyst-jobs-in-united-kingdom?hideTrainingJobs=true&excludeSalaryDescriptions=16%2C32%2C64'\n",
    "data_analyst_df = reed_webscraper(url, 109)"
   ]
  },
  {
   "cell_type": "code",
   "execution_count": 21,
   "metadata": {},
   "outputs": [
    {
     "data": {
      "text/plain": [
       "(2943, 6)"
      ]
     },
     "execution_count": 21,
     "metadata": {},
     "output_type": "execute_result"
    }
   ],
   "source": [
    "data_analyst_df.shape"
   ]
  },
  {
   "cell_type": "code",
   "execution_count": 22,
   "metadata": {},
   "outputs": [],
   "source": [
    "# scrape data engineer job data\n",
    "url = 'https://www.reed.co.uk/jobs/data-engineer-jobs-in-united-kingdom?hideTrainingJobs=true&excludeSalaryDescriptions=16%2C32%2C64'\n",
    "data_engineer_df = reed_webscraper(url, 116)"
   ]
  },
  {
   "cell_type": "code",
   "execution_count": 24,
   "metadata": {},
   "outputs": [
    {
     "data": {
      "text/plain": [
       "(3016, 6)"
      ]
     },
     "execution_count": 24,
     "metadata": {},
     "output_type": "execute_result"
    }
   ],
   "source": [
    "data_engineer_df.shape"
   ]
  },
  {
   "cell_type": "code",
   "execution_count": 25,
   "metadata": {},
   "outputs": [],
   "source": [
    "# scrape machine learning engineer job data\n",
    "url = 'https://www.reed.co.uk/jobs/machine-learning-engineer-jobs-in-united-kingdom?hideTrainingJobs=true&excludeSalaryDescriptions=16%2C32%2C64'\n",
    "ml_engineer_df = reed_webscraper(url, 7)"
   ]
  },
  {
   "cell_type": "code",
   "execution_count": 27,
   "metadata": {},
   "outputs": [
    {
     "data": {
      "text/plain": [
       "(175, 6)"
      ]
     },
     "execution_count": 27,
     "metadata": {},
     "output_type": "execute_result"
    }
   ],
   "source": [
    "ml_engineer_df.shape"
   ]
  },
  {
   "cell_type": "code",
   "execution_count": 28,
   "metadata": {},
   "outputs": [],
   "source": [
    "# scrape data science job data\n",
    "url = 'https://www.reed.co.uk/jobs/data-science-jobs-in-united-kingdom?hideTrainingJobs=true&excludeSalaryDescriptions=16%2C32%2C64'\n",
    "data_science_df = reed_webscraper(url, 43)"
   ]
  },
  {
   "cell_type": "code",
   "execution_count": 30,
   "metadata": {},
   "outputs": [
    {
     "data": {
      "text/plain": [
       "(1075, 6)"
      ]
     },
     "execution_count": 30,
     "metadata": {},
     "output_type": "execute_result"
    }
   ],
   "source": [
    "data_science_df.shape"
   ]
  },
  {
   "cell_type": "code",
   "execution_count": 31,
   "metadata": {},
   "outputs": [],
   "source": [
    "# concatenate all dfs\n",
    "df = pd.concat([data_scientist_df, data_analyst_df, data_engineer_df, ml_engineer_df, data_science_df], ignore_index=True)"
   ]
  },
  {
   "cell_type": "code",
   "execution_count": 39,
   "metadata": {},
   "outputs": [
    {
     "data": {
      "text/plain": [
       "(7573, 6)"
      ]
     },
     "execution_count": 39,
     "metadata": {},
     "output_type": "execute_result"
    }
   ],
   "source": [
    "df.shape"
   ]
  },
  {
   "cell_type": "code",
   "execution_count": 40,
   "metadata": {},
   "outputs": [],
   "source": [
    "# save df to csv file\n",
    "df.to_csv('reed_data.csv', index=False)"
   ]
  }
 ],
 "metadata": {
  "kernelspec": {
   "display_name": "base",
   "language": "python",
   "name": "python3"
  },
  "language_info": {
   "codemirror_mode": {
    "name": "ipython",
    "version": 3
   },
   "file_extension": ".py",
   "mimetype": "text/x-python",
   "name": "python",
   "nbconvert_exporter": "python",
   "pygments_lexer": "ipython3",
   "version": "3.10.9"
  },
  "orig_nbformat": 4
 },
 "nbformat": 4,
 "nbformat_minor": 2
}
